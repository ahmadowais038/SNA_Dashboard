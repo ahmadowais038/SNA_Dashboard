{
 "cells": [
  {
   "cell_type": "code",
   "execution_count": 5,
   "id": "69527349-d4ca-4cfe-8cec-dbe780204561",
   "metadata": {},
   "outputs": [
    {
     "name": "stdout",
     "output_type": "stream",
     "text": [
      "Requirement already satisfied: prophet in c:\\users\\owais\\appdata\\local\\programs\\python\\python37\\lib\\site-packages (1.1.6)\n",
      "Requirement already satisfied: cmdstanpy>=1.0.4 in c:\\users\\owais\\appdata\\local\\programs\\python\\python37\\lib\\site-packages (from prophet) (1.1.0)\n",
      "Requirement already satisfied: numpy>=1.15.4 in c:\\users\\owais\\appdata\\local\\programs\\python\\python37\\lib\\site-packages (from prophet) (1.21.6)\n",
      "Requirement already satisfied: matplotlib>=2.0.0 in c:\\users\\owais\\appdata\\local\\programs\\python\\python37\\lib\\site-packages (from prophet) (3.5.3)\n",
      "Requirement already satisfied: pandas>=1.0.4 in c:\\users\\owais\\appdata\\local\\programs\\python\\python37\\lib\\site-packages (from prophet) (1.3.5)\n",
      "Requirement already satisfied: holidays<1,>=0.25 in c:\\users\\owais\\appdata\\local\\programs\\python\\python37\\lib\\site-packages (from prophet) (0.27.1)\n",
      "Requirement already satisfied: tqdm>=4.36.1 in c:\\users\\owais\\appdata\\local\\programs\\python\\python37\\lib\\site-packages (from prophet) (4.64.1)\n",
      "Requirement already satisfied: importlib-resources in c:\\users\\owais\\appdata\\local\\programs\\python\\python37\\lib\\site-packages (from prophet) (5.10.0)\n",
      "Requirement already satisfied: python-dateutil in c:\\users\\owais\\appdata\\local\\programs\\python\\python37\\lib\\site-packages (from holidays<1,>=0.25->prophet) (2.8.2)\n",
      "Requirement already satisfied: cycler>=0.10 in c:\\users\\owais\\appdata\\local\\programs\\python\\python37\\lib\\site-packages (from matplotlib>=2.0.0->prophet) (0.11.0)\n",
      "Requirement already satisfied: fonttools>=4.22.0 in c:\\users\\owais\\appdata\\local\\programs\\python\\python37\\lib\\site-packages (from matplotlib>=2.0.0->prophet) (4.38.0)\n",
      "Requirement already satisfied: kiwisolver>=1.0.1 in c:\\users\\owais\\appdata\\local\\programs\\python\\python37\\lib\\site-packages (from matplotlib>=2.0.0->prophet) (1.4.4)\n",
      "Requirement already satisfied: packaging>=20.0 in c:\\users\\owais\\appdata\\local\\programs\\python\\python37\\lib\\site-packages (from matplotlib>=2.0.0->prophet) (21.3)\n",
      "Requirement already satisfied: pillow>=6.2.0 in c:\\users\\owais\\appdata\\local\\programs\\python\\python37\\lib\\site-packages (from matplotlib>=2.0.0->prophet) (9.3.0)\n",
      "Requirement already satisfied: pyparsing>=2.2.1 in c:\\users\\owais\\appdata\\local\\programs\\python\\python37\\lib\\site-packages (from matplotlib>=2.0.0->prophet) (3.0.9)\n",
      "Requirement already satisfied: pytz>=2017.3 in c:\\users\\owais\\appdata\\local\\programs\\python\\python37\\lib\\site-packages (from pandas>=1.0.4->prophet) (2022.6)\n",
      "Requirement already satisfied: colorama in c:\\users\\owais\\appdata\\roaming\\python\\python37\\site-packages (from tqdm>=4.36.1->prophet) (0.4.6)\n",
      "Requirement already satisfied: zipp>=3.1.0 in c:\\users\\owais\\appdata\\local\\programs\\python\\python37\\lib\\site-packages (from importlib-resources->prophet) (3.11.0)\n",
      "Requirement already satisfied: typing-extensions in c:\\users\\owais\\appdata\\local\\programs\\python\\python37\\lib\\site-packages (from kiwisolver>=1.0.1->matplotlib>=2.0.0->prophet) (4.4.0)\n",
      "Requirement already satisfied: six>=1.5 in c:\\users\\owais\\appdata\\local\\programs\\python\\python37\\lib\\site-packages (from python-dateutil->holidays<1,>=0.25->prophet) (1.16.0)\n"
     ]
    },
    {
     "ename": "ModuleNotFoundError",
     "evalue": "No module named 'prophet'",
     "output_type": "error",
     "traceback": [
      "\u001b[1;31m---------------------------------------------------------------------------\u001b[0m",
      "\u001b[1;31mModuleNotFoundError\u001b[0m                       Traceback (most recent call last)",
      "Cell \u001b[1;32mIn[5], line 4\u001b[0m\n\u001b[0;32m      2\u001b[0m \u001b[38;5;28;01mimport\u001b[39;00m \u001b[38;5;21;01mpandas\u001b[39;00m \u001b[38;5;28;01mas\u001b[39;00m \u001b[38;5;21;01mpd\u001b[39;00m\n\u001b[0;32m      3\u001b[0m \u001b[38;5;28;01mimport\u001b[39;00m \u001b[38;5;21;01mmatplotlib\u001b[39;00m\u001b[38;5;21;01m.\u001b[39;00m\u001b[38;5;21;01mpyplot\u001b[39;00m \u001b[38;5;28;01mas\u001b[39;00m \u001b[38;5;21;01mplt\u001b[39;00m\n\u001b[1;32m----> 4\u001b[0m \u001b[38;5;28;01mfrom\u001b[39;00m \u001b[38;5;21;01mprophet\u001b[39;00m \u001b[38;5;28;01mimport\u001b[39;00m Prophet\n\u001b[0;32m      5\u001b[0m \u001b[38;5;28;01mimport\u001b[39;00m \u001b[38;5;21;01mplotly\u001b[39;00m\u001b[38;5;21;01m.\u001b[39;00m\u001b[38;5;21;01mgraph_objects\u001b[39;00m \u001b[38;5;28;01mas\u001b[39;00m \u001b[38;5;21;01mgo\u001b[39;00m\n\u001b[0;32m      6\u001b[0m \u001b[38;5;28;01mimport\u001b[39;00m \u001b[38;5;21;01mplotly\u001b[39;00m\u001b[38;5;21;01m.\u001b[39;00m\u001b[38;5;21;01mio\u001b[39;00m \u001b[38;5;28;01mas\u001b[39;00m \u001b[38;5;21;01mpio\u001b[39;00m\n",
      "\u001b[1;31mModuleNotFoundError\u001b[0m: No module named 'prophet'"
     ]
    }
   ],
   "source": [
    "!pip install prophet\n",
    "import pandas as pd\n",
    "import matplotlib.pyplot as plt\n",
    "from prophet import Prophet\n",
    "import plotly.graph_objects as go\n",
    "import plotly.io as pio\n",
    "\n",
    "import warnings\n",
    "warnings.filterwarnings('ignore')"
   ]
  },
  {
   "cell_type": "code",
   "execution_count": 2,
   "id": "9a5a93b5-c08b-4754-957b-e6778942ed6a",
   "metadata": {},
   "outputs": [],
   "source": [
    "renewable_p= pd.read_csv('modern-renewable-production.csv')\n",
    "renewable_c = pd.read_csv('renewable-energy-consumption-share.csv')"
   ]
  },
  {
   "cell_type": "code",
   "execution_count": 3,
   "id": "a69cd27f-472c-4810-af67-2996f39396c1",
   "metadata": {},
   "outputs": [
    {
     "data": {
      "text/html": [
       "<div>\n",
       "<style scoped>\n",
       "    .dataframe tbody tr th:only-of-type {\n",
       "        vertical-align: middle;\n",
       "    }\n",
       "\n",
       "    .dataframe tbody tr th {\n",
       "        vertical-align: top;\n",
       "    }\n",
       "\n",
       "    .dataframe thead th {\n",
       "        text-align: right;\n",
       "    }\n",
       "</style>\n",
       "<table border=\"1\" class=\"dataframe\">\n",
       "  <thead>\n",
       "    <tr style=\"text-align: right;\">\n",
       "      <th></th>\n",
       "      <th>Entity</th>\n",
       "      <th>Code</th>\n",
       "      <th>Year</th>\n",
       "      <th>Electricity from wind - TWh</th>\n",
       "      <th>Electricity from hydro - TWh</th>\n",
       "      <th>Electricity from solar - TWh</th>\n",
       "      <th>Other renewables including bioenergy - TWh</th>\n",
       "    </tr>\n",
       "  </thead>\n",
       "  <tbody>\n",
       "    <tr>\n",
       "      <th>0</th>\n",
       "      <td>ASEAN (Ember)</td>\n",
       "      <td>NaN</td>\n",
       "      <td>2000</td>\n",
       "      <td>0.0</td>\n",
       "      <td>50.45</td>\n",
       "      <td>0.00</td>\n",
       "      <td>22.800000</td>\n",
       "    </tr>\n",
       "    <tr>\n",
       "      <th>1</th>\n",
       "      <td>ASEAN (Ember)</td>\n",
       "      <td>NaN</td>\n",
       "      <td>2001</td>\n",
       "      <td>0.0</td>\n",
       "      <td>54.33</td>\n",
       "      <td>0.00</td>\n",
       "      <td>22.860000</td>\n",
       "    </tr>\n",
       "    <tr>\n",
       "      <th>2</th>\n",
       "      <td>ASEAN (Ember)</td>\n",
       "      <td>NaN</td>\n",
       "      <td>2002</td>\n",
       "      <td>0.0</td>\n",
       "      <td>53.29</td>\n",
       "      <td>0.00</td>\n",
       "      <td>23.230000</td>\n",
       "    </tr>\n",
       "    <tr>\n",
       "      <th>3</th>\n",
       "      <td>ASEAN (Ember)</td>\n",
       "      <td>NaN</td>\n",
       "      <td>2003</td>\n",
       "      <td>0.0</td>\n",
       "      <td>53.21</td>\n",
       "      <td>0.00</td>\n",
       "      <td>23.189999</td>\n",
       "    </tr>\n",
       "    <tr>\n",
       "      <th>4</th>\n",
       "      <td>ASEAN (Ember)</td>\n",
       "      <td>NaN</td>\n",
       "      <td>2004</td>\n",
       "      <td>0.0</td>\n",
       "      <td>52.99</td>\n",
       "      <td>0.00</td>\n",
       "      <td>24.970000</td>\n",
       "    </tr>\n",
       "    <tr>\n",
       "      <th>...</th>\n",
       "      <td>...</td>\n",
       "      <td>...</td>\n",
       "      <td>...</td>\n",
       "      <td>...</td>\n",
       "      <td>...</td>\n",
       "      <td>...</td>\n",
       "      <td>...</td>\n",
       "    </tr>\n",
       "    <tr>\n",
       "      <th>9203</th>\n",
       "      <td>Zimbabwe</td>\n",
       "      <td>ZWE</td>\n",
       "      <td>2018</td>\n",
       "      <td>0.0</td>\n",
       "      <td>5.05</td>\n",
       "      <td>0.02</td>\n",
       "      <td>0.190000</td>\n",
       "    </tr>\n",
       "    <tr>\n",
       "      <th>9204</th>\n",
       "      <td>Zimbabwe</td>\n",
       "      <td>ZWE</td>\n",
       "      <td>2019</td>\n",
       "      <td>0.0</td>\n",
       "      <td>4.17</td>\n",
       "      <td>0.03</td>\n",
       "      <td>0.190000</td>\n",
       "    </tr>\n",
       "    <tr>\n",
       "      <th>9205</th>\n",
       "      <td>Zimbabwe</td>\n",
       "      <td>ZWE</td>\n",
       "      <td>2020</td>\n",
       "      <td>0.0</td>\n",
       "      <td>3.81</td>\n",
       "      <td>0.02</td>\n",
       "      <td>0.100000</td>\n",
       "    </tr>\n",
       "    <tr>\n",
       "      <th>9206</th>\n",
       "      <td>Zimbabwe</td>\n",
       "      <td>ZWE</td>\n",
       "      <td>2021</td>\n",
       "      <td>0.0</td>\n",
       "      <td>5.93</td>\n",
       "      <td>0.02</td>\n",
       "      <td>0.000000</td>\n",
       "    </tr>\n",
       "    <tr>\n",
       "      <th>9207</th>\n",
       "      <td>Zimbabwe</td>\n",
       "      <td>ZWE</td>\n",
       "      <td>2022</td>\n",
       "      <td>0.0</td>\n",
       "      <td>5.88</td>\n",
       "      <td>0.03</td>\n",
       "      <td>0.100000</td>\n",
       "    </tr>\n",
       "  </tbody>\n",
       "</table>\n",
       "<p>9208 rows × 7 columns</p>\n",
       "</div>"
      ],
      "text/plain": [
       "             Entity Code  Year  Electricity from wind - TWh  \\\n",
       "0     ASEAN (Ember)  NaN  2000                          0.0   \n",
       "1     ASEAN (Ember)  NaN  2001                          0.0   \n",
       "2     ASEAN (Ember)  NaN  2002                          0.0   \n",
       "3     ASEAN (Ember)  NaN  2003                          0.0   \n",
       "4     ASEAN (Ember)  NaN  2004                          0.0   \n",
       "...             ...  ...   ...                          ...   \n",
       "9203       Zimbabwe  ZWE  2018                          0.0   \n",
       "9204       Zimbabwe  ZWE  2019                          0.0   \n",
       "9205       Zimbabwe  ZWE  2020                          0.0   \n",
       "9206       Zimbabwe  ZWE  2021                          0.0   \n",
       "9207       Zimbabwe  ZWE  2022                          0.0   \n",
       "\n",
       "      Electricity from hydro - TWh  Electricity from solar - TWh  \\\n",
       "0                            50.45                          0.00   \n",
       "1                            54.33                          0.00   \n",
       "2                            53.29                          0.00   \n",
       "3                            53.21                          0.00   \n",
       "4                            52.99                          0.00   \n",
       "...                            ...                           ...   \n",
       "9203                          5.05                          0.02   \n",
       "9204                          4.17                          0.03   \n",
       "9205                          3.81                          0.02   \n",
       "9206                          5.93                          0.02   \n",
       "9207                          5.88                          0.03   \n",
       "\n",
       "      Other renewables including bioenergy - TWh  \n",
       "0                                      22.800000  \n",
       "1                                      22.860000  \n",
       "2                                      23.230000  \n",
       "3                                      23.189999  \n",
       "4                                      24.970000  \n",
       "...                                          ...  \n",
       "9203                                    0.190000  \n",
       "9204                                    0.190000  \n",
       "9205                                    0.100000  \n",
       "9206                                    0.000000  \n",
       "9207                                    0.100000  \n",
       "\n",
       "[9208 rows x 7 columns]"
      ]
     },
     "execution_count": 3,
     "metadata": {},
     "output_type": "execute_result"
    }
   ],
   "source": [
    "renewable_p"
   ]
  },
  {
   "cell_type": "code",
   "execution_count": 4,
   "id": "9a3b2ba0-ac1c-4667-a72b-6132424a1e57",
   "metadata": {},
   "outputs": [
    {
     "data": {
      "text/html": [
       "<div>\n",
       "<style scoped>\n",
       "    .dataframe tbody tr th:only-of-type {\n",
       "        vertical-align: middle;\n",
       "    }\n",
       "\n",
       "    .dataframe tbody tr th {\n",
       "        vertical-align: top;\n",
       "    }\n",
       "\n",
       "    .dataframe thead th {\n",
       "        text-align: right;\n",
       "    }\n",
       "</style>\n",
       "<table border=\"1\" class=\"dataframe\">\n",
       "  <thead>\n",
       "    <tr style=\"text-align: right;\">\n",
       "      <th></th>\n",
       "      <th>Country</th>\n",
       "      <th>Year</th>\n",
       "      <th>Hydro Energy-TWh</th>\n",
       "      <th>Other Renewables-TWh</th>\n",
       "      <th>Wind Energy-TWh</th>\n",
       "    </tr>\n",
       "  </thead>\n",
       "  <tbody>\n",
       "    <tr>\n",
       "      <th>0</th>\n",
       "      <td>Australia</td>\n",
       "      <td>1965</td>\n",
       "      <td>7.689756</td>\n",
       "      <td>0.296</td>\n",
       "      <td>NaN</td>\n",
       "    </tr>\n",
       "    <tr>\n",
       "      <th>1</th>\n",
       "      <td>Australia</td>\n",
       "      <td>1966</td>\n",
       "      <td>7.345043</td>\n",
       "      <td>0.284</td>\n",
       "      <td>NaN</td>\n",
       "    </tr>\n",
       "    <tr>\n",
       "      <th>2</th>\n",
       "      <td>Australia</td>\n",
       "      <td>1967</td>\n",
       "      <td>7.605787</td>\n",
       "      <td>0.290</td>\n",
       "      <td>NaN</td>\n",
       "    </tr>\n",
       "    <tr>\n",
       "      <th>3</th>\n",
       "      <td>Australia</td>\n",
       "      <td>1968</td>\n",
       "      <td>7.950501</td>\n",
       "      <td>0.282</td>\n",
       "      <td>NaN</td>\n",
       "    </tr>\n",
       "    <tr>\n",
       "      <th>4</th>\n",
       "      <td>Australia</td>\n",
       "      <td>1969</td>\n",
       "      <td>8.684121</td>\n",
       "      <td>0.281</td>\n",
       "      <td>NaN</td>\n",
       "    </tr>\n",
       "  </tbody>\n",
       "</table>\n",
       "</div>"
      ],
      "text/plain": [
       "     Country  Year  Hydro Energy-TWh  Other Renewables-TWh  Wind Energy-TWh\n",
       "0  Australia  1965          7.689756                 0.296              NaN\n",
       "1  Australia  1966          7.345043                 0.284              NaN\n",
       "2  Australia  1967          7.605787                 0.290              NaN\n",
       "3  Australia  1968          7.950501                 0.282              NaN\n",
       "4  Australia  1969          8.684121                 0.281              NaN"
      ]
     },
     "execution_count": 4,
     "metadata": {},
     "output_type": "execute_result"
    }
   ],
   "source": [
    "renewable_p_AUS_JPN = renewable_p[(renewable_p['Entity'] == 'Australia') | (renewable_p['Entity'] == 'Japan')]\n",
    "\n",
    "renewable_p_AUS_JPN = renewable_p_AUS_JPN[['Entity', 'Year', 'Electricity from hydro - TWh', 'Other renewables including bioenergy - TWh', 'Electricity from wind - TWh']]\n",
    "\n",
    "renewable_p_AUS_JPN.rename(columns = {'Entity':'Country', 'Electricity from hydro - TWh':'Hydro Energy-TWh',\n",
    "                                      'Other renewables including bioenergy - TWh':'Other Renewables-TWh',\n",
    "                                      'Electricity from wind - TWh':'Wind Energy-TWh'}, inplace = True)\n",
    "\n",
    "renewable_p_AUS_JPN.reset_index(drop = True, inplace = True)\n",
    "\n",
    "renewable_p_AUS_JPN.head()"
   ]
  },
  {
   "cell_type": "code",
   "execution_count": 5,
   "id": "544b2812-396c-48f9-b46b-0ccac4f4c777",
   "metadata": {},
   "outputs": [
    {
     "data": {
      "text/html": [
       "<div>\n",
       "<style scoped>\n",
       "    .dataframe tbody tr th:only-of-type {\n",
       "        vertical-align: middle;\n",
       "    }\n",
       "\n",
       "    .dataframe tbody tr th {\n",
       "        vertical-align: top;\n",
       "    }\n",
       "\n",
       "    .dataframe thead th {\n",
       "        text-align: right;\n",
       "    }\n",
       "</style>\n",
       "<table border=\"1\" class=\"dataframe\">\n",
       "  <thead>\n",
       "    <tr style=\"text-align: right;\">\n",
       "      <th></th>\n",
       "      <th>Country</th>\n",
       "      <th>Year</th>\n",
       "      <th>% Renewables Consumption</th>\n",
       "    </tr>\n",
       "  </thead>\n",
       "  <tbody>\n",
       "    <tr>\n",
       "      <th>0</th>\n",
       "      <td>Australia</td>\n",
       "      <td>1965</td>\n",
       "      <td>5.562622</td>\n",
       "    </tr>\n",
       "    <tr>\n",
       "      <th>1</th>\n",
       "      <td>Australia</td>\n",
       "      <td>1966</td>\n",
       "      <td>5.071895</td>\n",
       "    </tr>\n",
       "    <tr>\n",
       "      <th>2</th>\n",
       "      <td>Australia</td>\n",
       "      <td>1967</td>\n",
       "      <td>4.949549</td>\n",
       "    </tr>\n",
       "    <tr>\n",
       "      <th>3</th>\n",
       "      <td>Australia</td>\n",
       "      <td>1968</td>\n",
       "      <td>4.865468</td>\n",
       "    </tr>\n",
       "    <tr>\n",
       "      <th>4</th>\n",
       "      <td>Australia</td>\n",
       "      <td>1969</td>\n",
       "      <td>5.086988</td>\n",
       "    </tr>\n",
       "    <tr>\n",
       "      <th>...</th>\n",
       "      <td>...</td>\n",
       "      <td>...</td>\n",
       "      <td>...</td>\n",
       "    </tr>\n",
       "    <tr>\n",
       "      <th>113</th>\n",
       "      <td>Japan</td>\n",
       "      <td>2019</td>\n",
       "      <td>9.284181</td>\n",
       "    </tr>\n",
       "    <tr>\n",
       "      <th>114</th>\n",
       "      <td>Japan</td>\n",
       "      <td>2020</td>\n",
       "      <td>10.928532</td>\n",
       "    </tr>\n",
       "    <tr>\n",
       "      <th>115</th>\n",
       "      <td>Japan</td>\n",
       "      <td>2021</td>\n",
       "      <td>11.268134</td>\n",
       "    </tr>\n",
       "    <tr>\n",
       "      <th>116</th>\n",
       "      <td>Japan</td>\n",
       "      <td>2022</td>\n",
       "      <td>11.606308</td>\n",
       "    </tr>\n",
       "    <tr>\n",
       "      <th>117</th>\n",
       "      <td>Japan</td>\n",
       "      <td>2023</td>\n",
       "      <td>12.584244</td>\n",
       "    </tr>\n",
       "  </tbody>\n",
       "</table>\n",
       "<p>118 rows × 3 columns</p>\n",
       "</div>"
      ],
      "text/plain": [
       "       Country  Year  % Renewables Consumption\n",
       "0    Australia  1965                  5.562622\n",
       "1    Australia  1966                  5.071895\n",
       "2    Australia  1967                  4.949549\n",
       "3    Australia  1968                  4.865468\n",
       "4    Australia  1969                  5.086988\n",
       "..         ...   ...                       ...\n",
       "113      Japan  2019                  9.284181\n",
       "114      Japan  2020                 10.928532\n",
       "115      Japan  2021                 11.268134\n",
       "116      Japan  2022                 11.606308\n",
       "117      Japan  2023                 12.584244\n",
       "\n",
       "[118 rows x 3 columns]"
      ]
     },
     "execution_count": 5,
     "metadata": {},
     "output_type": "execute_result"
    }
   ],
   "source": [
    "renewable_c_AUS_JPN = renewable_c[(renewable_c['Entity'] == 'Australia') | (renewable_c['Entity'] == 'Japan')]\n",
    "\n",
    "renewable_c_AUS_JPN = renewable_c_AUS_JPN.rename(columns={'Entity': 'Country', 'Renewables (% equivalent primary energy)': '% Renewables Consumption'})\n",
    "\n",
    "renewable_c_AUS_JPN = renewable_c_AUS_JPN[['Country','Year','% Renewables Consumption']]\n",
    "\n",
    "renewable_c_AUS_JPN.reset_index(drop=True, inplace=True)\n",
    "\n",
    "renewable_c_AUS_JPN\n"
   ]
  },
  {
   "cell_type": "code",
   "execution_count": 6,
   "id": "4ea7456c-265a-469f-ad60-0cd48974870b",
   "metadata": {},
   "outputs": [
    {
     "name": "stdout",
     "output_type": "stream",
     "text": [
      "<class 'pandas.core.frame.DataFrame'>\n",
      "RangeIndex: 118 entries, 0 to 117\n",
      "Data columns (total 5 columns):\n",
      " #   Column                Non-Null Count  Dtype  \n",
      "---  ------                --------------  -----  \n",
      " 0   Country               118 non-null    object \n",
      " 1   Year                  118 non-null    int64  \n",
      " 2   Hydro Energy-TWh      118 non-null    float64\n",
      " 3   Other Renewables-TWh  118 non-null    float64\n",
      " 4   Wind Energy-TWh       93 non-null     float64\n",
      "dtypes: float64(3), int64(1), object(1)\n",
      "memory usage: 4.7+ KB\n"
     ]
    }
   ],
   "source": [
    "renewable_p_AUS_JPN.info()"
   ]
  },
  {
   "cell_type": "code",
   "execution_count": 7,
   "id": "58587477-0f00-4fdc-8881-d54dae2f27d7",
   "metadata": {},
   "outputs": [
    {
     "data": {
      "text/html": [
       "<div>\n",
       "<style scoped>\n",
       "    .dataframe tbody tr th:only-of-type {\n",
       "        vertical-align: middle;\n",
       "    }\n",
       "\n",
       "    .dataframe tbody tr th {\n",
       "        vertical-align: top;\n",
       "    }\n",
       "\n",
       "    .dataframe thead th {\n",
       "        text-align: right;\n",
       "    }\n",
       "</style>\n",
       "<table border=\"1\" class=\"dataframe\">\n",
       "  <thead>\n",
       "    <tr style=\"text-align: right;\">\n",
       "      <th></th>\n",
       "      <th>Year</th>\n",
       "      <th>Hydro Energy-TWh</th>\n",
       "      <th>Other Renewables-TWh</th>\n",
       "      <th>Wind Energy-TWh</th>\n",
       "    </tr>\n",
       "  </thead>\n",
       "  <tbody>\n",
       "    <tr>\n",
       "      <th>count</th>\n",
       "      <td>118.000000</td>\n",
       "      <td>118.000000</td>\n",
       "      <td>118.000000</td>\n",
       "      <td>93.000000</td>\n",
       "    </tr>\n",
       "    <tr>\n",
       "      <th>mean</th>\n",
       "      <td>1994.000000</td>\n",
       "      <td>47.398191</td>\n",
       "      <td>7.810806</td>\n",
       "      <td>3.713755</td>\n",
       "    </tr>\n",
       "    <tr>\n",
       "      <th>std</th>\n",
       "      <td>17.102007</td>\n",
       "      <td>33.756562</td>\n",
       "      <td>9.889257</td>\n",
       "      <td>6.702807</td>\n",
       "    </tr>\n",
       "    <tr>\n",
       "      <th>min</th>\n",
       "      <td>1965.000000</td>\n",
       "      <td>7.345043</td>\n",
       "      <td>0.000000</td>\n",
       "      <td>0.000000</td>\n",
       "    </tr>\n",
       "    <tr>\n",
       "      <th>25%</th>\n",
       "      <td>1979.250000</td>\n",
       "      <td>14.355833</td>\n",
       "      <td>0.457000</td>\n",
       "      <td>0.000000</td>\n",
       "    </tr>\n",
       "    <tr>\n",
       "      <th>50%</th>\n",
       "      <td>1994.000000</td>\n",
       "      <td>42.016000</td>\n",
       "      <td>2.801025</td>\n",
       "      <td>0.130000</td>\n",
       "    </tr>\n",
       "    <tr>\n",
       "      <th>75%</th>\n",
       "      <td>2008.750000</td>\n",
       "      <td>80.707250</td>\n",
       "      <td>15.133882</td>\n",
       "      <td>5.010000</td>\n",
       "    </tr>\n",
       "    <tr>\n",
       "      <th>max</th>\n",
       "      <td>2023.000000</td>\n",
       "      <td>94.416000</td>\n",
       "      <td>42.045246</td>\n",
       "      <td>33.130000</td>\n",
       "    </tr>\n",
       "  </tbody>\n",
       "</table>\n",
       "</div>"
      ],
      "text/plain": [
       "              Year  Hydro Energy-TWh  Other Renewables-TWh  Wind Energy-TWh\n",
       "count   118.000000        118.000000            118.000000        93.000000\n",
       "mean   1994.000000         47.398191              7.810806         3.713755\n",
       "std      17.102007         33.756562              9.889257         6.702807\n",
       "min    1965.000000          7.345043              0.000000         0.000000\n",
       "25%    1979.250000         14.355833              0.457000         0.000000\n",
       "50%    1994.000000         42.016000              2.801025         0.130000\n",
       "75%    2008.750000         80.707250             15.133882         5.010000\n",
       "max    2023.000000         94.416000             42.045246        33.130000"
      ]
     },
     "execution_count": 7,
     "metadata": {},
     "output_type": "execute_result"
    }
   ],
   "source": [
    "renewable_p_AUS_JPN.describe()"
   ]
  },
  {
   "cell_type": "code",
   "execution_count": 8,
   "id": "917afc93-508c-422d-8df1-177911575cee",
   "metadata": {},
   "outputs": [
    {
     "data": {
      "text/plain": [
       "Country                   2\n",
       "Year                     59\n",
       "Hydro Energy-TWh        118\n",
       "Other Renewables-TWh    112\n",
       "Wind Energy-TWh          59\n",
       "dtype: int64"
      ]
     },
     "execution_count": 8,
     "metadata": {},
     "output_type": "execute_result"
    }
   ],
   "source": [
    "renewable_p_AUS_JPN.nunique()"
   ]
  },
  {
   "cell_type": "code",
   "execution_count": 9,
   "id": "611a8f55-e741-463c-87a4-7eb47ffe8ad5",
   "metadata": {},
   "outputs": [
    {
     "name": "stdout",
     "output_type": "stream",
     "text": [
      "The shape of the dataset is (118, 5)\n",
      "\n",
      "There are 0 duplicated rows in the dataframe.\n"
     ]
    },
    {
     "data": {
      "text/plain": [
       "(0, 5)"
      ]
     },
     "execution_count": 9,
     "metadata": {},
     "output_type": "execute_result"
    }
   ],
   "source": [
    "print(f'The shape of the dataset is {renewable_p_AUS_JPN.shape}\\n')\n",
    "\n",
    "print('There are', renewable_p_AUS_JPN.duplicated().sum(), 'duplicated rows in the dataframe.')\n",
    "\n",
    "renewable_p_AUS_JPN[renewable_p_AUS_JPN.duplicated()].shape"
   ]
  },
  {
   "cell_type": "code",
   "execution_count": 10,
   "id": "186d545f-1fb2-4626-aa8a-7264f77ebb58",
   "metadata": {},
   "outputs": [
    {
     "data": {
      "text/plain": [
       "Country                  0\n",
       "Year                     0\n",
       "Hydro Energy-TWh         0\n",
       "Other Renewables-TWh     0\n",
       "Wind Energy-TWh         25\n",
       "dtype: int64"
      ]
     },
     "execution_count": 10,
     "metadata": {},
     "output_type": "execute_result"
    }
   ],
   "source": [
    "renewable_p_AUS_JPN.isnull().sum()"
   ]
  },
  {
   "cell_type": "code",
   "execution_count": 11,
   "id": "b6b7085a-16c5-490e-b456-e9a6ec644ab5",
   "metadata": {},
   "outputs": [
    {
     "name": "stdout",
     "output_type": "stream",
     "text": [
      "<class 'pandas.core.frame.DataFrame'>\n",
      "RangeIndex: 118 entries, 0 to 117\n",
      "Data columns (total 3 columns):\n",
      " #   Column                    Non-Null Count  Dtype  \n",
      "---  ------                    --------------  -----  \n",
      " 0   Country                   118 non-null    object \n",
      " 1   Year                      118 non-null    int64  \n",
      " 2   % Renewables Consumption  118 non-null    float64\n",
      "dtypes: float64(1), int64(1), object(1)\n",
      "memory usage: 2.9+ KB\n"
     ]
    }
   ],
   "source": [
    "renewable_c_AUS_JPN.info()"
   ]
  },
  {
   "cell_type": "code",
   "execution_count": 12,
   "id": "7f3ec1b0-bc0b-46aa-9f71-766f78b5152f",
   "metadata": {},
   "outputs": [
    {
     "data": {
      "text/html": [
       "<div>\n",
       "<style scoped>\n",
       "    .dataframe tbody tr th:only-of-type {\n",
       "        vertical-align: middle;\n",
       "    }\n",
       "\n",
       "    .dataframe tbody tr th {\n",
       "        vertical-align: top;\n",
       "    }\n",
       "\n",
       "    .dataframe thead th {\n",
       "        text-align: right;\n",
       "    }\n",
       "</style>\n",
       "<table border=\"1\" class=\"dataframe\">\n",
       "  <thead>\n",
       "    <tr style=\"text-align: right;\">\n",
       "      <th></th>\n",
       "      <th>count</th>\n",
       "      <th>mean</th>\n",
       "      <th>std</th>\n",
       "      <th>min</th>\n",
       "      <th>25%</th>\n",
       "      <th>50%</th>\n",
       "      <th>75%</th>\n",
       "      <th>max</th>\n",
       "    </tr>\n",
       "  </thead>\n",
       "  <tbody>\n",
       "    <tr>\n",
       "      <th>Year</th>\n",
       "      <td>118.0</td>\n",
       "      <td>1994.000000</td>\n",
       "      <td>17.102007</td>\n",
       "      <td>1965.000000</td>\n",
       "      <td>1979.250000</td>\n",
       "      <td>1994.000000</td>\n",
       "      <td>2008.75000</td>\n",
       "      <td>2023.000000</td>\n",
       "    </tr>\n",
       "    <tr>\n",
       "      <th>% Renewables Consumption</th>\n",
       "      <td>118.0</td>\n",
       "      <td>6.080202</td>\n",
       "      <td>2.270364</td>\n",
       "      <td>3.681326</td>\n",
       "      <td>4.693712</td>\n",
       "      <td>5.466783</td>\n",
       "      <td>6.43991</td>\n",
       "      <td>14.982515</td>\n",
       "    </tr>\n",
       "  </tbody>\n",
       "</table>\n",
       "</div>"
      ],
      "text/plain": [
       "                          count         mean        std          min  \\\n",
       "Year                      118.0  1994.000000  17.102007  1965.000000   \n",
       "% Renewables Consumption  118.0     6.080202   2.270364     3.681326   \n",
       "\n",
       "                                  25%          50%         75%          max  \n",
       "Year                      1979.250000  1994.000000  2008.75000  2023.000000  \n",
       "% Renewables Consumption     4.693712     5.466783     6.43991    14.982515  "
      ]
     },
     "execution_count": 12,
     "metadata": {},
     "output_type": "execute_result"
    }
   ],
   "source": [
    "renewable_c_AUS_JPN.describe().T"
   ]
  },
  {
   "cell_type": "code",
   "execution_count": 13,
   "id": "4bc7747c-87fa-4e74-9f7e-1894172911a5",
   "metadata": {},
   "outputs": [
    {
     "data": {
      "text/plain": [
       "Country                       2\n",
       "Year                         59\n",
       "% Renewables Consumption    118\n",
       "dtype: int64"
      ]
     },
     "execution_count": 13,
     "metadata": {},
     "output_type": "execute_result"
    }
   ],
   "source": [
    "renewable_c_AUS_JPN.nunique()"
   ]
  },
  {
   "cell_type": "code",
   "execution_count": 14,
   "id": "513feca8-b7d6-443d-8b02-4a2203b506ed",
   "metadata": {},
   "outputs": [
    {
     "data": {
      "text/plain": [
       "Country                     0\n",
       "Year                        0\n",
       "% Renewables Consumption    0\n",
       "dtype: int64"
      ]
     },
     "execution_count": 14,
     "metadata": {},
     "output_type": "execute_result"
    }
   ],
   "source": [
    "renewable_c_AUS_JPN.isnull().sum()"
   ]
  },
  {
   "cell_type": "code",
   "execution_count": 15,
   "id": "02e90c34-7d92-46b4-8345-3e0ff299a827",
   "metadata": {},
   "outputs": [
    {
     "name": "stdout",
     "output_type": "stream",
     "text": [
      "The shape of the dataset is (118, 3)\n",
      "\n",
      "There are 0 duplicated rows in the dataframe.\n"
     ]
    },
    {
     "data": {
      "text/plain": [
       "(0, 3)"
      ]
     },
     "execution_count": 15,
     "metadata": {},
     "output_type": "execute_result"
    }
   ],
   "source": [
    "print(f'The shape of the dataset is {renewable_c_AUS_JPN.shape}\\n')\n",
    "\n",
    "print('There are', renewable_c_AUS_JPN.duplicated().sum(), 'duplicated rows in the dataframe.')\n",
    "\n",
    "renewable_c_AUS_JPN[renewable_c_AUS_JPN.duplicated()].shape"
   ]
  },
  {
   "cell_type": "markdown",
   "id": "ce6843aa-fecb-4d3d-bd85-2b36cfc24556",
   "metadata": {},
   "source": [
    "# ---------------------------------------------------------------------------------------------------------------\n",
    "# ---------------------------------------------------------------------------------------------------------------"
   ]
  },
  {
   "cell_type": "markdown",
   "id": "44e06885-32f9-44ac-8a91-8f64bb9182f2",
   "metadata": {},
   "source": [
    "#                                                                      * Analysis  & Predictions * "
   ]
  },
  {
   "cell_type": "markdown",
   "id": "56ea13cc-842f-487b-b7aa-00a50266d014",
   "metadata": {},
   "source": [
    "   "
   ]
  },
  {
   "cell_type": "markdown",
   "id": "0b34a66b-0cff-4590-b7f3-fdb365fba8b3",
   "metadata": {},
   "source": [
    "# Forecasting the renewable energy resources (Hydro and Wind) production in Australia."
   ]
  },
  {
   "cell_type": "markdown",
   "id": "73baeab4-0f7e-48f7-b786-03664cbda022",
   "metadata": {},
   "source": [
    " "
   ]
  },
  {
   "cell_type": "code",
   "execution_count": 16,
   "id": "dadceb4e-9208-4036-bc22-173403f285ff",
   "metadata": {},
   "outputs": [],
   "source": [
    "# Creating dataframe for Australia's energy resources\n",
    "aus_df= renewable_p_AUS_JPN[renewable_p_AUS_JPN['Country'] == 'Australia'][['Year', 'Hydro Energy-TWh', 'Wind Energy-TWh']].copy()\n",
    "\n",
    "# Creating a \"ds\" that has the years in the format of YYYY.\n",
    "aus_df['ds'] = pd.to_datetime(aus_df['Year'], format = '%Y')"
   ]
  },
  {
   "cell_type": "markdown",
   "id": "e73ac2df-db61-4fc1-8eb6-016697d63c9f",
   "metadata": {},
   "source": [
    "## Forecasting Hydero Energy resource."
   ]
  },
  {
   "cell_type": "markdown",
   "id": "14ca5014-f505-4bf5-90bf-f39a3078f153",
   "metadata": {},
   "source": [
    "  "
   ]
  },
  {
   "cell_type": "code",
   "execution_count": 17,
   "id": "bcfffb14-ec32-4bec-be25-6ca93e9c16c1",
   "metadata": {},
   "outputs": [
    {
     "name": "stderr",
     "output_type": "stream",
     "text": [
      "15:16:33 - cmdstanpy - INFO - Chain [1] start processing\n",
      "15:16:33 - cmdstanpy - INFO - Chain [1] done processing\n"
     ]
    }
   ],
   "source": [
    "#### Modeling  Hydro Energy ####\n",
    "\n",
    "# Renamming the columns of the target variable and the date series columns to be used for prophet modell\n",
    "df_hydro_aus = aus_df[['ds', 'Hydro Energy-TWh']].rename(columns = {'Hydro Energy-TWh': 'y'})\n",
    "\n",
    "# Initialising the model \n",
    "modeling_hydro_aus = Prophet()\n",
    "\n",
    "# Fitting and training the model\n",
    "modeling_hydro_aus.fit(df_hydro_aus)\n",
    "\n",
    "# Creating dataFrame with future years for the next 20 years\n",
    "future_hydro_aus = modeling_hydro_aus.make_future_dataframe(periods = 20, freq = 'Y')\n",
    "\n",
    "# Creating future years predictions for the hydro energy resource\n",
    "forecast_hydro_aus = modeling_hydro_aus.predict(future_hydro_aus)"
   ]
  },
  {
   "cell_type": "markdown",
   "id": "b2c94597-1bca-46ca-89e8-f8b015899ee9",
   "metadata": {},
   "source": [
    "   "
   ]
  },
  {
   "cell_type": "markdown",
   "id": "2cd268b0-3ead-4d10-bcc6-ffd551f2329c",
   "metadata": {},
   "source": [
    "## Forecasting wind Energy resource."
   ]
  },
  {
   "cell_type": "code",
   "execution_count": 18,
   "id": "92146880-764e-454c-9229-e39615d4f80c",
   "metadata": {},
   "outputs": [
    {
     "name": "stderr",
     "output_type": "stream",
     "text": [
      "15:16:33 - cmdstanpy - INFO - Chain [1] start processing\n",
      "15:16:34 - cmdstanpy - INFO - Chain [1] done processing\n"
     ]
    }
   ],
   "source": [
    "#### Modeling wind Energy ####\n",
    "\n",
    "# Renamming the columns of the target variable and the date series columns to be used for prophet modell\n",
    "df_wind_aus = aus_df[['ds', 'Wind Energy-TWh']].rename(columns = {'Wind Energy-TWh': 'y'})\n",
    "\n",
    "# Initialising the model\n",
    "modeling_wind_aus = Prophet()\n",
    "\n",
    "# Fitting and training the model\n",
    "modeling_wind_aus.fit(df_wind_aus)\n",
    "\n",
    "# Creating dataFrame with future years for the next 20 years\n",
    "future_wind_aus = modeling_wind_aus.make_future_dataframe(periods = 20, freq = 'Y')\n",
    "\n",
    "# Creating future years predictions dataframe for the hydro energy resource\n",
    "forecast_wind_aus = modeling_wind_aus.predict(future_wind_aus)\n",
    "\n",
    "# Removing negative predictions from wind energy forecasting\n",
    "forecast_wind_aus['yhat'] = forecast_wind_aus['yhat'].apply(lambda x: max(0, x))"
   ]
  },
  {
   "cell_type": "markdown",
   "id": "65d330c5-ae98-4db1-b31f-b5c3cb46c339",
   "metadata": {},
   "source": [
    "  "
   ]
  },
  {
   "cell_type": "code",
   "execution_count": 19,
   "id": "530d74cf-578c-43b5-b820-f275da277e7e",
   "metadata": {},
   "outputs": [],
   "source": [
    "# Renaming hydro energy dataframe columns to display them on the plot \n",
    "forecast_hydro_aus.rename(columns = {'ds': 'Years', 'yhat':'Predicted Hydro Energy (TWh)'}, inplace = True)\n",
    "\n",
    "# Renaming wind energy dataframe columns to display them on the plot \n",
    "forecast_wind_aus.rename(columns = {'ds':'Year', 'yhat':'Predicted Wind Energy (TWh)'}, inplace = True)"
   ]
  },
  {
   "cell_type": "markdown",
   "id": "8676a516-31e6-4e3f-96ee-42db687e36ba",
   "metadata": {},
   "source": [
    "  "
   ]
  },
  {
   "cell_type": "code",
   "execution_count": 20,
   "id": "f17912bf-f13a-4845-ab66-3e66d1b4ea47",
   "metadata": {},
   "outputs": [],
   "source": [
    "# Opening the plot in the browser \n",
    "pio.renderers.default = 'browser'\n",
    "\n",
    "# Creating initial empty plotly figure \n",
    "fig = go.Figure()\n",
    "\n",
    "# making hydro energy resource data plot as default\n",
    "fig.add_trace(go.Scatter(x = forecast_hydro_aus['Years'], y = forecast_hydro_aus['Predicted Hydro Energy (TWh)'], mode = 'lines', name = 'Hydro Energy', line = dict(color = 'crimson')))\n",
    "\n",
    "\n",
    "# Updating the layout for the plot to add tites for the plot and axies\n",
    "fig.update_layout(title = 'Energy Production Forecast for Australia', xaxis_title='Years', yaxis_title=' Generated Energy (TWh)')\n",
    "\n",
    "\n",
    "# Adding dropdown list for selecting Hydro or Wind Energy resource\n",
    "\n",
    "fig.update_layout(\n",
    "    \n",
    "    updatemenus = [\n",
    "        dict(buttons = list([\n",
    "                \n",
    "                dict(args = [{'y': [forecast_hydro_aus['Predicted Hydro Energy (TWh)']], 'name': ['Hydro Energy'],\n",
    "                           'yaxis.range': [0, max(forecast_hydro_aus['Predicted Hydro Energy (TWh)']) + 5]}],\n",
    "                    label = \"Hydro Energy\",\n",
    "                    method = \"update\"),\n",
    "            \n",
    "                \n",
    "                dict(args = [{'y': [forecast_wind_aus['Predicted Wind Energy (TWh)']], 'name': ['Wind Energy'],\n",
    "                           'yaxis.range': [0, max(forecast_wind_aus['Predicted Wind Energy (TWh)']) + 5]}],  \n",
    "                    label = \"Wind Energy\",\n",
    "                    method = \"update\")]),\n",
    "            \n",
    "            direction = \"down\")])\n",
    "\n",
    "# Show the plot\n",
    "fig.show()\n",
    "fig.write_html(\"Australia_Hydro_and_Wind_renewables.html\")"
   ]
  },
  {
   "cell_type": "markdown",
   "id": "2aeec45a-cb6a-490f-af53-6d7b0cf10979",
   "metadata": {},
   "source": [
    "  "
   ]
  },
  {
   "cell_type": "markdown",
   "id": "5ae8be00-3d0b-4ba8-a3d2-73c2f8dc9abf",
   "metadata": {},
   "source": [
    "  "
   ]
  },
  {
   "cell_type": "markdown",
   "id": "c2b2c06f-33e1-4433-a5eb-3025a12aef0d",
   "metadata": {},
   "source": [
    "# Forecasting the renewable energy resources (Hydro and Wind) production in Japan."
   ]
  },
  {
   "cell_type": "code",
   "execution_count": null,
   "id": "4947be73-82db-4daa-9fd8-4c8f4ed4711d",
   "metadata": {},
   "outputs": [],
   "source": []
  },
  {
   "cell_type": "code",
   "execution_count": 21,
   "id": "6b454566-fe3d-4ec9-96a9-e8fee89bbbc9",
   "metadata": {},
   "outputs": [],
   "source": [
    "# Creating dataframe for Japan's energy resources\n",
    "jpn_df = renewable_p_AUS_JPN[renewable_p_AUS_JPN['Country'] == 'Japan'][['Year', 'Hydro Energy-TWh', 'Wind Energy-TWh']].copy()\n",
    "\n",
    "# Creating a \"ds\" that has the years in the format of YYYY.\n",
    "jpn_df['ds'] = pd.to_datetime(jpn_df['Year'], format = '%Y')"
   ]
  },
  {
   "cell_type": "markdown",
   "id": "8cbce669-147d-4e02-87d4-4d4384381635",
   "metadata": {},
   "source": [
    "  "
   ]
  },
  {
   "cell_type": "markdown",
   "id": "33e3a8fe-2ad7-4578-a6b9-3222eae1d780",
   "metadata": {},
   "source": [
    "## Forecasting Hydero Energy resource."
   ]
  },
  {
   "cell_type": "code",
   "execution_count": 22,
   "id": "f7fb2dde-06e6-4906-b9d9-39c37d0f8cb2",
   "metadata": {},
   "outputs": [
    {
     "name": "stderr",
     "output_type": "stream",
     "text": [
      "15:16:36 - cmdstanpy - INFO - Chain [1] start processing\n",
      "15:16:37 - cmdstanpy - INFO - Chain [1] done processing\n"
     ]
    }
   ],
   "source": [
    "#### Modeling  Hydro Energy ####\n",
    "\n",
    "\n",
    "# Renamming the columns of the target variable and the date series columns to be used for prophet modell\n",
    "df_hydro_jpn = jpn_df[['ds', 'Hydro Energy-TWh']].rename(columns = {'Hydro Energy-TWh': 'y'})\n",
    "\n",
    "# Initialising the model\n",
    "modeling_hydro_jpn = Prophet()\n",
    "\n",
    "# Fitting and training the model\n",
    "modeling_hydro_jpn.fit(df_hydro_jpn)\n",
    "\n",
    "# Creating dataFrame with future years for the next 20 years\n",
    "future_hydro_jpn = modeling_hydro_jpn.make_future_dataframe(periods = 20, freq = 'Y')\n",
    "\n",
    "# Creating future years predictions for the hydro energy resource\n",
    "forecast_hydro_jpn = modeling_hydro_jpn.predict(future_hydro_jpn)"
   ]
  },
  {
   "cell_type": "markdown",
   "id": "5edb5ae2-eab6-4004-a4cf-009c8dc9f6e0",
   "metadata": {},
   "source": [
    "  "
   ]
  },
  {
   "cell_type": "markdown",
   "id": "67dc2016-31f4-4233-a457-dfb6cbd9caba",
   "metadata": {},
   "source": [
    "## Forecasting wind Energy resource."
   ]
  },
  {
   "cell_type": "code",
   "execution_count": 23,
   "id": "e98b7349-7c4e-4618-abbc-b98e1e59f090",
   "metadata": {},
   "outputs": [
    {
     "name": "stderr",
     "output_type": "stream",
     "text": [
      "15:16:37 - cmdstanpy - INFO - Chain [1] start processing\n",
      "15:16:38 - cmdstanpy - INFO - Chain [1] done processing\n"
     ]
    }
   ],
   "source": [
    "#### Modeling wind Energy ####\n",
    "\n",
    "\n",
    "# Renamming the columns of the target variable and the date series columns to be used for prophet model\n",
    "df_wind_jpn = jpn_df[['ds', 'Wind Energy-TWh']].rename(columns={'Wind Energy-TWh': 'y'})\n",
    "\n",
    "# Initialising the model\n",
    "modeling_wind_jpn = Prophet()\n",
    "\n",
    "# Fitting and training the model\n",
    "modeling_wind_jpn.fit(df_wind_jpn)\n",
    "\n",
    "# Creating dataFrame with future years for the next 20 years\n",
    "future_wind_jpn = modeling_wind_jpn.make_future_dataframe(periods = 20, freq = 'Y')\n",
    "\n",
    "# Creating future years predictions dataframe for the hydro energy resource\n",
    "forecast_wind_jpn = modeling_wind_jpn.predict(future_wind_jpn)\n",
    "\n",
    "# Removing negative predictions from wind energy forecasting\n",
    "forecast_wind_jpn['yhat'] = forecast_wind_jpn['yhat'].apply(lambda x: max(0, x))"
   ]
  },
  {
   "cell_type": "markdown",
   "id": "2e358c0e-fe87-42f9-ac8a-11af96f4c167",
   "metadata": {},
   "source": [
    "  "
   ]
  },
  {
   "cell_type": "code",
   "execution_count": 24,
   "id": "70ccc3c3-0795-4274-971e-71974d1e4377",
   "metadata": {},
   "outputs": [],
   "source": [
    "# Renaming hydro energy dataframe columns to display them on the plot \n",
    "forecast_hydro_jpn.rename(columns = {'ds':'Year', 'yhat':'Predicted Hydro Energy (TWh)'}, inplace = True)\n",
    "\n",
    "# Renaming wind energy dataframe columns to display them on the plot \n",
    "forecast_wind_jpn.rename(columns = {'ds':'Year', 'yhat':'Predicted Wind Energy (TWh)'}, inplace = True)"
   ]
  },
  {
   "cell_type": "markdown",
   "id": "931e2610-39d4-4edf-83a0-aab1e1e64cff",
   "metadata": {},
   "source": [
    "  "
   ]
  },
  {
   "cell_type": "code",
   "execution_count": 25,
   "id": "9ee58db7-b29e-431b-9259-2f40c5cbf64b",
   "metadata": {},
   "outputs": [],
   "source": [
    "# Opening the plot in the browser \n",
    "pio.renderers.default = 'browser'\n",
    "\n",
    "# Creating initial empty plotly figure \n",
    "fig = go.Figure()\n",
    "\n",
    "# making hydro energy resource data plot as default\n",
    "fig.add_trace(go.Scatter(x = forecast_hydro_jpn['Year'], y = forecast_hydro_jpn['Predicted Hydro Energy (TWh)'], mode = 'lines', name = 'Hydro Energy', line = dict(color = 'crimson')))\n",
    "\n",
    "# Updating the layout for the plot to add tites for the plot and axies\n",
    "fig.update_layout(title = 'Energy Production Forecast for Japan', xaxis_title = 'Year', yaxis_title = 'Energy (TWh)')\n",
    "\n",
    "\n",
    "# Adding dropdown list for selecting Hydro or Wind Energy resource\n",
    "fig.update_layout(\n",
    "    \n",
    "    updatemenus = [\n",
    "        dict(buttons = list([\n",
    "                \n",
    "                dict(args = [{'y': [forecast_hydro_jpn['Predicted Hydro Energy (TWh)']], 'name': ['Hydro Energy'],\n",
    "                           'yaxis.range': [0, max(forecast_hydro_jpn['Predicted Hydro Energy (TWh)']) + 5]}],\n",
    "                    label = \"Hydro Energy\",\n",
    "                    method = \"update\"),\n",
    "            \n",
    "                \n",
    "                dict(args = [{'y': [forecast_wind_jpn['Predicted Wind Energy (TWh)']], 'name': ['Wind Energy'],\n",
    "                           'yaxis.range': [0, max(forecast_wind_aus['Predicted Wind Energy (TWh)']) + 5]}],  \n",
    "                    label = \"Wind Energy\",\n",
    "                    method = \"update\")]),\n",
    "            \n",
    "            direction = \"down\")])\n",
    "\n",
    "# Show the plot\n",
    "fig.show()\n",
    "fig.write_html(\"Japan_Hydro_and_Wind_renewables.html\")"
   ]
  },
  {
   "cell_type": "markdown",
   "id": "d607bc36-c905-41e0-89b3-f43880809c48",
   "metadata": {},
   "source": [
    "  "
   ]
  },
  {
   "cell_type": "markdown",
   "id": "f9c59635-20b6-4238-b2a4-de3db0ccb1e2",
   "metadata": {},
   "source": [
    "# Forecasting the consumption of renewable energy (% equivalent primary energy) in bothe countries, Australia & Japan. "
   ]
  },
  {
   "cell_type": "markdown",
   "id": "78d1f2ce-a274-4138-bcb0-6cc2198561eb",
   "metadata": {},
   "source": [
    "  "
   ]
  },
  {
   "cell_type": "markdown",
   "id": "60f8ffbe-b642-4074-b800-b1b63db155d2",
   "metadata": {},
   "source": [
    "## Forecasting of consumption of renewable energy in Australia"
   ]
  },
  {
   "cell_type": "code",
   "execution_count": 26,
   "id": "55a02019-d7d5-4d47-ac58-b2b7bafb4b06",
   "metadata": {},
   "outputs": [
    {
     "name": "stderr",
     "output_type": "stream",
     "text": [
      "15:16:40 - cmdstanpy - INFO - Chain [1] start processing\n",
      "15:16:40 - cmdstanpy - INFO - Chain [1] done processing\n"
     ]
    }
   ],
   "source": [
    "# Creating dataframe for Australia's consumption of renewable energy\n",
    "df_aus = renewable_c_AUS_JPN[renewable_c_AUS_JPN['Country'] == 'Australia'][['Year', '% Renewables Consumption']].copy()\n",
    "\n",
    "# Creating a \"ds\" that has the years in the format of YYYY.\n",
    "df_aus['ds'] = pd.to_datetime(df_aus['Year'], format = '%Y')\n",
    "\n",
    "# Renamming the column of the target variable and the date series columns to be used for prophet model\n",
    "df_aus.rename(columns = {'% Renewables Consumption':'y'}, inplace = True)\n",
    "\n",
    "\n",
    "# Building fitting the model\n",
    "modeling_aus = Prophet()\n",
    "modeling_aus.fit(df_aus)\n",
    "\n",
    "future_aus = modeling_aus.make_future_dataframe(periods = 20, freq = 'Y')\n",
    "forecast_aus = modeling_aus.predict(future_aus)"
   ]
  },
  {
   "cell_type": "markdown",
   "id": "b79d7e63-ed87-4a63-be49-32ed09d715d8",
   "metadata": {},
   "source": [
    "  "
   ]
  },
  {
   "cell_type": "markdown",
   "id": "d6f5b2a7-10cc-480f-afbc-108dad97e0d9",
   "metadata": {},
   "source": [
    "## Forecasting of consumption of renewable energy in Japan"
   ]
  },
  {
   "cell_type": "code",
   "execution_count": 27,
   "id": "f48aef2a-aadb-4e26-8431-7628e78daf80",
   "metadata": {},
   "outputs": [
    {
     "name": "stderr",
     "output_type": "stream",
     "text": [
      "15:16:41 - cmdstanpy - INFO - Chain [1] start processing\n",
      "15:16:41 - cmdstanpy - INFO - Chain [1] done processing\n"
     ]
    }
   ],
   "source": [
    "# Creating dataframe for Australia's consumption of renewable energy\n",
    "df_jpn = renewable_c_AUS_JPN[renewable_c_AUS_JPN['Country'] == 'Japan'][['Year', '% Renewables Consumption']].copy()\n",
    "\n",
    "# Creating a \"ds\" that has the years in the format of YYYY.\n",
    "df_jpn['ds'] = pd.to_datetime(df_jpn['Year'], format = '%Y')\n",
    "\n",
    "# Renamming the column of the target variable and the date series columns to be used for prophet model\n",
    "df_jpn.rename(columns = {'% Renewables Consumption': 'y'}, inplace = True)\n",
    "\n",
    "\n",
    "# Building fitting the model\n",
    "modeling_jpn = Prophet()\n",
    "modeling_jpn.fit(df_jpn)\n",
    "\n",
    "future_jpn = modeling_jpn.make_future_dataframe(periods = 20, freq = 'Y')\n",
    "forecast_jpn = modeling_jpn.predict(future_jpn)"
   ]
  },
  {
   "cell_type": "markdown",
   "id": "c7ffb57c-1c48-4999-9fa5-f16e78bf6bdc",
   "metadata": {},
   "source": [
    "  "
   ]
  },
  {
   "cell_type": "code",
   "execution_count": 30,
   "id": "4b5ce65d-8b47-4dd4-8496-c417a0ce9adb",
   "metadata": {},
   "outputs": [],
   "source": [
    "# Opening the plot in the browser \n",
    "pio.renderers.default = 'browser'\n",
    "\n",
    "\n",
    "# Creating the plot to show both Australia and Japan\n",
    "fig = go.Figure()\n",
    "\n",
    "# Adding Australia forecast as a blue line\n",
    "fig.add_trace(go.Scatter(x = forecast_aus['ds'], y = forecast_aus['yhat'], mode = 'lines', name = 'Australia', line = dict(color = 'blue')))\n",
    "\n",
    "# Adding Japan forecast as a red line\n",
    "\n",
    "fig.add_trace(go.Scatter(x = forecast_jpn['ds'], y = forecast_jpn['yhat'], mode = 'lines', name = 'Japan', line = dict(color = 'crimson')))\n",
    "\n",
    "\n",
    "# Updating the layout for the plot\n",
    "\n",
    "fig.update_layout(title = 'Renewable Energy Consumption Forecast: Australia vs Japan',\n",
    "                  xaxis_title='Year', yaxis_title='% Renewables Consumption',\n",
    "                  legend = dict(x = 0.1, y = 1.1, orientation = 'h'))\n",
    "\n",
    "# Show the plot\n",
    "fig.show()\n",
    "fig.write_html(\"Australia_and_Japan_Consumption.html\")"
   ]
  },
  {
   "cell_type": "code",
   "execution_count": null,
   "id": "4927d329-450b-40fc-8a07-406abb964397",
   "metadata": {},
   "outputs": [],
   "source": []
  }
 ],
 "metadata": {
  "kernelspec": {
   "display_name": "Python 3",
   "language": "python",
   "name": "python3"
  },
  "language_info": {
   "codemirror_mode": {
    "name": "ipython",
    "version": 3
   },
   "file_extension": ".py",
   "mimetype": "text/x-python",
   "name": "python",
   "nbconvert_exporter": "python",
   "pygments_lexer": "ipython3",
   "version": "3.11.5"
  }
 },
 "nbformat": 4,
 "nbformat_minor": 5
}
