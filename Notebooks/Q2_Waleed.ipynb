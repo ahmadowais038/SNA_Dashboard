{
 "cells": [
  {
   "cell_type": "markdown",
   "id": "c7a26e8d",
   "metadata": {},
   "source": [
    "# Research Question 2 "
   ]
  },
  {
   "cell_type": "markdown",
   "id": "276f69a8",
   "metadata": {},
   "source": [
    "## What are consumers issues with the current system as well as their concerns about the transition towards renewable energy"
   ]
  },
  {
   "cell_type": "markdown",
   "id": "9eace1eb",
   "metadata": {},
   "source": [
    "This analysis focuses on understanding consumer concerns regarding the current energy system and their perspectives on transitioning to renewable energy, using the 'Impact Of Transition' and 'Concern for Ability to Pay' data from the Australia ECSS dataset."
   ]
  },
  {
   "cell_type": "markdown",
   "id": "ea55141a",
   "metadata": {},
   "source": [
    "#### Importing Necessary Libraries"
   ]
  },
  {
   "cell_type": "code",
   "execution_count": 11,
   "id": "74ec6b16",
   "metadata": {},
   "outputs": [],
   "source": [
    "import pandas as pd\n",
    "import numpy as np\n",
    "#import chart_studio.plotly as py\n",
    "#import cufflinks as cf\n",
    "import plotly.express as px\n",
    "import plotly.graph_objects as go\n",
    "import textwrap\n",
    "from plotly.offline import download_plotlyjs, init_notebook_mode, plot, iplot"
   ]
  },
  {
   "cell_type": "markdown",
   "id": "0b9d71f6",
   "metadata": {},
   "source": [
    "#### Initialize Plotly and Cufflinks for interactive visualizations"
   ]
  },
  {
   "cell_type": "code",
   "execution_count": 12,
   "id": "9c3c6eba",
   "metadata": {},
   "outputs": [
    {
     "data": {
      "text/html": [
       "        <script type=\"text/javascript\">\n",
       "        window.PlotlyConfig = {MathJaxConfig: 'local'};\n",
       "        if (window.MathJax && window.MathJax.Hub && window.MathJax.Hub.Config) {window.MathJax.Hub.Config({SVG: {font: \"STIX-Web\"}});}\n",
       "        if (typeof require !== 'undefined') {\n",
       "        require.undef(\"plotly\");\n",
       "        requirejs.config({\n",
       "            paths: {\n",
       "                'plotly': ['https://cdn.plot.ly/plotly-2.32.0.min']\n",
       "            }\n",
       "        });\n",
       "        require(['plotly'], function(Plotly) {\n",
       "            window._Plotly = Plotly;\n",
       "        });\n",
       "        }\n",
       "        </script>\n",
       "        "
      ]
     },
     "metadata": {},
     "output_type": "display_data"
    },
    {
     "ename": "NameError",
     "evalue": "name 'cf' is not defined",
     "output_type": "error",
     "traceback": [
      "\u001b[1;31m---------------------------------------------------------------------------\u001b[0m",
      "\u001b[1;31mNameError\u001b[0m                                 Traceback (most recent call last)",
      "Cell \u001b[1;32mIn[12], line 2\u001b[0m\n\u001b[0;32m      1\u001b[0m init_notebook_mode(connected\u001b[38;5;241m=\u001b[39m\u001b[38;5;28;01mTrue\u001b[39;00m)\n\u001b[1;32m----> 2\u001b[0m \u001b[43mcf\u001b[49m\u001b[38;5;241m.\u001b[39mgo_offline()\n",
      "\u001b[1;31mNameError\u001b[0m: name 'cf' is not defined"
     ]
    }
   ],
   "source": [
    "init_notebook_mode(connected=True)\n",
    "cf.go_offline()"
   ]
  },
  {
   "cell_type": "markdown",
   "id": "23a2b441",
   "metadata": {},
   "source": [
    "#### Loading the Data from Excel File"
   ]
  },
  {
   "cell_type": "code",
   "execution_count": 4,
   "id": "58b94a13",
   "metadata": {},
   "outputs": [
    {
     "name": "stdout",
     "output_type": "stream",
     "text": [
      "dict_keys(['TOC', 'Satisfaction with service', 'Value for money', 'Satisfaction with electricity r', 'Outages', 'Satisfaction with service(2)', 'Value for money(2)', 'Satisfaction with gas retailer', 'Switching behaviour', 'Reasons for switching', 'Frequency of investigating swit', 'Remembering communication', 'Attention', 'Concern for ability to pay', 'Useful & Easy to read (New)', 'Reasons for higher bills', 'Electricity bill support', 'Confidence in abilities and sup', 'Confidence in overall market', 'Confidence in future outcomes', 'Awareness of ombudsman', 'Value for money of utilities', 'Concern with paying bills', 'Trust in utilities', 'Challenges ahead for the energy', 'Energy consumer service prefere', 'Uptake of solar PV panels', 'Steps to adjust to the transiti', 'Impact of transition', 'Communication of the transition', 'Satisfaction with service(3)', 'Value for money(3)', 'Satisfaction with electricit(2)', 'Outages(2)', 'Cost to business', 'Satisfaction with service(4)', 'Value for money(4)', 'Satisfaction with gas retail(2)', 'Cost to business(2)', 'Switching behaviour(2)', 'Considering switching', 'Frequency of investigating s(2)', 'Remembering communication(2)', 'Attention(2)', 'Concern for ability to pay(2)', 'Useful & easy to read (New)(2)', 'Electricity bill support(2)', 'Confidence in abilities and (2)', 'Confidence in overall market(2)', 'Confidence in future outcome(2)', 'Awareness of ombudsman(2)', 'Value for money of utilities(2)', 'Trust in utilities(2)', 'Challenges ahead for the ene(2)', 'Energy consumer service pref(2)', 'Uptake of solar PV panels(2)', 'Steps to adjust to the trans(2)', 'Impact of transition(2)', 'Communication of the transit(2)'])\n"
     ]
    }
   ],
   "source": [
    "# Load the entire Excel file once to avoid redundant loading later\n",
    "file_path = '../Dataset/ecss-jun-24-topline-data.xlsx'\n",
    "data = pd.read_excel(file_path, sheet_name=None)  # Load all sheets into a dictionary\n",
    "\n",
    "# Display sheet names to ensure they are loaded correctly\n",
    "print(data.keys())\n"
   ]
  },
  {
   "cell_type": "markdown",
   "id": "7aaa44fb",
   "metadata": {},
   "source": [
    "#### Viweing The First Few Rows Of Impact Of transition"
   ]
  },
  {
   "cell_type": "code",
   "execution_count": 5,
   "id": "6c20f764",
   "metadata": {},
   "outputs": [
    {
     "name": "stdout",
     "output_type": "stream",
     "text": [
      "                                         Back to TOC           Unnamed: 1  \\\n",
      "0  T9: How do you think the transition to renewab...                  NaN   \n",
      "1                                                NaN  Household Lifestage   \n",
      "2                                           Column %       All households   \n",
      "3  Electricity will become cheaper as moving to r...             0.118517   \n",
      "4  Overall, the transition will not affect electr...              0.07747   \n",
      "\n",
      "        Unnamed: 2        Unnamed: 3       Unnamed: 4         Unnamed: 5  \\\n",
      "0              NaN               NaN              NaN                NaN   \n",
      "1              NaN               NaN              NaN                NaN   \n",
      "2  Young Household  Family Household  Older Household  Retired Household   \n",
      "3         0.215411          0.130136         0.112319           0.088611   \n",
      "4          0.11246          0.066223          0.07009           0.079316   \n",
      "\n",
      "  Unnamed: 6 Unnamed: 7 Unnamed: 8 Unnamed: 9  ...   Unnamed: 15 Unnamed: 16  \\\n",
      "0        NaN        NaN        NaN        NaN  ...           NaN         NaN   \n",
      "1      State        NaN        NaN        NaN  ...           NaN         NaN   \n",
      "2        NSW        VIC        QLD         WA  ...  Country Town       Rural   \n",
      "3   0.127182     0.1025   0.116667   0.123333  ...      0.113122    0.092067   \n",
      "4   0.077307      0.065   0.066667   0.096667  ...      0.080087    0.065742   \n",
      "\n",
      "               Unnamed: 17                                        Unnamed: 18  \\\n",
      "0                      NaN                                                NaN   \n",
      "1       Financial Pressure                                                NaN   \n",
      "2  Financially comfortable  Manage household bills but struggle to afford ...   \n",
      "3                 0.112805                                           0.122921   \n",
      "4                 0.097599                                           0.070989   \n",
      "\n",
      "                Unnamed: 19     Unnamed: 20 Unnamed: 21    Unnamed: 22  \\\n",
      "0                       NaN             NaN         NaN            NaN   \n",
      "1                       NaN  Home Ownership         NaN  Property Type   \n",
      "2  Under financial pressure       Homeowner      Renter          House   \n",
      "3                  0.118555        0.105507    0.156462       0.104829   \n",
      "4                  0.057914        0.076722    0.073735       0.078294   \n",
      "\n",
      "           Unnamed: 23              Unnamed: 24  \n",
      "0                  NaN                      NaN  \n",
      "1                  NaN                      NaN  \n",
      "2  Townhouse or duplex  Unit, flat or apartment  \n",
      "3             0.139211                 0.167378  \n",
      "4             0.087176                 0.068192  \n",
      "\n",
      "[5 rows x 25 columns]\n"
     ]
    }
   ],
   "source": [
    "# View the first few rows of the \"Impact of transition\" sheet to understand its structure\n",
    "print(data['Impact of transition'].head())\n"
   ]
  },
  {
   "cell_type": "markdown",
   "id": "01fc5171",
   "metadata": {},
   "source": [
    "## Visualizing Consumer Concerns About the Transition to Renewable Energy"
   ]
  },
  {
   "cell_type": "markdown",
   "id": "b9426b89",
   "metadata": {},
   "source": [
    "We will now analyze and visualize the data from the Impact of Transition sheet."
   ]
  },
  {
   "cell_type": "markdown",
   "id": "c65a34af",
   "metadata": {},
   "source": [
    "#### Cleaning and Preprocessing Data for Visualization"
   ]
  },
  {
   "cell_type": "code",
   "execution_count": 6,
   "id": "6435290e",
   "metadata": {
    "scrolled": true
   },
   "outputs": [],
   "source": [
    "# Define the wrap_text function to wrap long text labels\n",
    "def wrap_text(text, width=40):\n",
    "    return \"<br>\".join(textwrap.wrap(text, width=width))\n",
    "\n",
    "# Clean and rename the columns in the \"Impact of Transition\" sheet for readability and ease of analysis\n",
    "impact_transition_data = data['Impact of transition'].copy()\n",
    "\n",
    "# Rename the columns based on the actual structure (relevant columns for States and Column %)\n",
    "impact_transition_data.columns = ['Statement', 'All households', 'Young Household', 'Family Household', \n",
    "                                  'Older Household', 'Retired Household', 'NSW', 'VIC', 'QLD', 'WA', 'SA', \n",
    "                                  'TAS', 'ACT', 'Inner Metro', 'Outer Metro', 'Country Town', 'Rural', \n",
    "                                  'Financially Comfortable', 'Struggle to Afford', 'Under Financial Pressure', \n",
    "                                  'Homeowner', 'Renter', 'House', 'Townhouse or Duplex', 'Unit, Flat, Apartment']\n",
    "\n",
    "# Convert the 'Statement' column to string first, filling any NaN values with empty strings\n",
    "impact_transition_data['Statement'] = impact_transition_data['Statement'].fillna('').astype(str)\n",
    "\n",
    "# Now remove irrelevant rows such as \"NET\", \"Column n\", and \"Column %\" from the 'Statement' column\n",
    "impact_transition_data = impact_transition_data[\n",
    "    (impact_transition_data['Statement'] != 'NET') & \n",
    "    (impact_transition_data['Statement'] != 'Column n') & \n",
    "    (~impact_transition_data['Statement'].str.contains('Column %'))\n",
    "]\n",
    "\n",
    "\n",
    "# Ensure that the 'Statement' column contains only strings by converting any non-string data to an empty string\n",
    "impact_transition_data['Statement'] = impact_transition_data['Statement'].fillna('').astype(str)\n",
    "\n",
    "# Apply text wrapping to longer statements for better display in the charts\n",
    "impact_transition_data['Statement'] = impact_transition_data['Statement'].apply(lambda x: wrap_text(x))\n",
    "\n",
    "# Shorten some response statements for simpler display\n",
    "def shorten_statement(statement):\n",
    "    if \"expensive\" in statement:\n",
    "        return \"Electricity more expensive\"\n",
    "    elif \"cheaper\" in statement:\n",
    "        return \"Electricity cheaper\"\n",
    "    elif \"affect prices\" in statement:\n",
    "        return \"No price effect\"\n",
    "    elif \"Unsure\" in statement:\n",
    "        return \"Unsure about transition\"\n",
    "    return statement\n",
    "\n",
    "impact_transition_data['Statement'] = impact_transition_data['Statement'].apply(shorten_statement)\n",
    "\n",
    "# Focus ONLY on the relevant state columns and questions for visualization\n",
    "states_to_visualize = impact_transition_data[['Statement', 'NSW', 'VIC', 'QLD', 'WA', 'SA', 'TAS', 'ACT']].dropna()\n"
   ]
  },
  {
   "cell_type": "markdown",
   "id": "266309aa",
   "metadata": {},
   "source": [
    "### Visualization: Public Sentiment on Renewable Energy Transition"
   ]
  },
  {
   "cell_type": "code",
   "execution_count": 8,
   "id": "d0e5edb4",
   "metadata": {},
   "outputs": [
    {
     "data": {
      "application/vnd.plotly.v1+json": {
       "config": {
        "plotlyServerURL": "https://plot.ly"
       },
       "data": [
        {
         "marker": {
          "color": "#636EFA"
         },
         "name": "NSW",
         "orientation": "h",
         "text": [
          "65.8%",
          "13.7%",
          "12.7%",
          "7.7%"
         ],
         "textposition": "auto",
         "type": "bar",
         "visible": true,
         "x": [
          0.6583541147132,
          0.1371571072319,
          0.1271820448878,
          0.07730673316708
         ],
         "y": [
          "Electricity more expensive",
          "Unsure about transition",
          "Electricity cheaper",
          "Overall, the transition will not affect<br>electricity prices"
         ]
        },
        {
         "marker": {
          "color": "#EF553B"
         },
         "name": "VIC",
         "orientation": "h",
         "text": [
          "62.3%",
          "21.0%",
          "10.2%",
          "6.5%"
         ],
         "textposition": "auto",
         "type": "bar",
         "visible": false,
         "x": [
          0.6225,
          0.21,
          0.1025,
          0.065
         ],
         "y": [
          "Electricity more expensive",
          "Unsure about transition",
          "Electricity cheaper",
          "Overall, the transition will not affect<br>electricity prices"
         ]
        },
        {
         "marker": {
          "color": "#00CC96"
         },
         "name": "QLD",
         "orientation": "h",
         "text": [
          "62.3%",
          "19.3%",
          "11.7%",
          "6.7%"
         ],
         "textposition": "auto",
         "type": "bar",
         "visible": false,
         "x": [
          0.6233333333333,
          0.1933333333333,
          0.1166666666667,
          0.06666666666667
         ],
         "y": [
          "Electricity more expensive",
          "Unsure about transition",
          "Electricity cheaper",
          "Overall, the transition will not affect<br>electricity prices"
         ]
        },
        {
         "marker": {
          "color": "#AB63FA"
         },
         "name": "WA",
         "orientation": "h",
         "text": [
          "57.7%",
          "20.3%",
          "12.3%",
          "9.7%"
         ],
         "textposition": "auto",
         "type": "bar",
         "visible": false,
         "x": [
          0.5766666666667,
          0.2033333333333,
          0.1233333333333,
          0.09666666666667
         ],
         "y": [
          "Electricity more expensive",
          "Unsure about transition",
          "Electricity cheaper",
          "Overall, the transition will not affect<br>electricity prices"
         ]
        },
        {
         "marker": {
          "color": "#FFA15A"
         },
         "name": "SA",
         "orientation": "h",
         "text": [
          "57.7%",
          "20.0%",
          "11.3%",
          "11.0%"
         ],
         "textposition": "auto",
         "type": "bar",
         "visible": false,
         "x": [
          0.5766666666667,
          0.2,
          0.1133333333333,
          0.11
         ],
         "y": [
          "Electricity more expensive",
          "Unsure about transition",
          "Electricity cheaper",
          "Overall, the transition will not affect<br>electricity prices"
         ]
        },
        {
         "marker": {
          "color": "#19D3F3"
         },
         "name": "TAS",
         "orientation": "h",
         "text": [
          "52.0%",
          "23.5%",
          "13.0%",
          "11.5%"
         ],
         "textposition": "auto",
         "type": "bar",
         "visible": false,
         "x": [
          0.52,
          0.235,
          0.13,
          0.115
         ],
         "y": [
          "Electricity more expensive",
          "Unsure about transition",
          "Electricity cheaper",
          "Overall, the transition will not affect<br>electricity prices"
         ]
        },
        {
         "marker": {
          "color": "#FF6692"
         },
         "name": "ACT",
         "orientation": "h",
         "text": [
          "55.0%",
          "21.0%",
          "15.5%",
          "8.5%"
         ],
         "textposition": "auto",
         "type": "bar",
         "visible": false,
         "x": [
          0.55,
          0.21,
          0.155,
          0.085
         ],
         "y": [
          "Electricity more expensive",
          "Electricity cheaper",
          "Unsure about transition",
          "Overall, the transition will not affect<br>electricity prices"
         ]
        }
       ],
       "layout": {
        "showlegend": false,
        "template": {
         "data": {
          "bar": [
           {
            "error_x": {
             "color": "#2a3f5f"
            },
            "error_y": {
             "color": "#2a3f5f"
            },
            "marker": {
             "line": {
              "color": "#E5ECF6",
              "width": 0.5
             },
             "pattern": {
              "fillmode": "overlay",
              "size": 10,
              "solidity": 0.2
             }
            },
            "type": "bar"
           }
          ],
          "barpolar": [
           {
            "marker": {
             "line": {
              "color": "#E5ECF6",
              "width": 0.5
             },
             "pattern": {
              "fillmode": "overlay",
              "size": 10,
              "solidity": 0.2
             }
            },
            "type": "barpolar"
           }
          ],
          "carpet": [
           {
            "aaxis": {
             "endlinecolor": "#2a3f5f",
             "gridcolor": "white",
             "linecolor": "white",
             "minorgridcolor": "white",
             "startlinecolor": "#2a3f5f"
            },
            "baxis": {
             "endlinecolor": "#2a3f5f",
             "gridcolor": "white",
             "linecolor": "white",
             "minorgridcolor": "white",
             "startlinecolor": "#2a3f5f"
            },
            "type": "carpet"
           }
          ],
          "choropleth": [
           {
            "colorbar": {
             "outlinewidth": 0,
             "ticks": ""
            },
            "type": "choropleth"
           }
          ],
          "contour": [
           {
            "colorbar": {
             "outlinewidth": 0,
             "ticks": ""
            },
            "colorscale": [
             [
              0,
              "#0d0887"
             ],
             [
              0.1111111111111111,
              "#46039f"
             ],
             [
              0.2222222222222222,
              "#7201a8"
             ],
             [
              0.3333333333333333,
              "#9c179e"
             ],
             [
              0.4444444444444444,
              "#bd3786"
             ],
             [
              0.5555555555555556,
              "#d8576b"
             ],
             [
              0.6666666666666666,
              "#ed7953"
             ],
             [
              0.7777777777777778,
              "#fb9f3a"
             ],
             [
              0.8888888888888888,
              "#fdca26"
             ],
             [
              1,
              "#f0f921"
             ]
            ],
            "type": "contour"
           }
          ],
          "contourcarpet": [
           {
            "colorbar": {
             "outlinewidth": 0,
             "ticks": ""
            },
            "type": "contourcarpet"
           }
          ],
          "heatmap": [
           {
            "colorbar": {
             "outlinewidth": 0,
             "ticks": ""
            },
            "colorscale": [
             [
              0,
              "#0d0887"
             ],
             [
              0.1111111111111111,
              "#46039f"
             ],
             [
              0.2222222222222222,
              "#7201a8"
             ],
             [
              0.3333333333333333,
              "#9c179e"
             ],
             [
              0.4444444444444444,
              "#bd3786"
             ],
             [
              0.5555555555555556,
              "#d8576b"
             ],
             [
              0.6666666666666666,
              "#ed7953"
             ],
             [
              0.7777777777777778,
              "#fb9f3a"
             ],
             [
              0.8888888888888888,
              "#fdca26"
             ],
             [
              1,
              "#f0f921"
             ]
            ],
            "type": "heatmap"
           }
          ],
          "heatmapgl": [
           {
            "colorbar": {
             "outlinewidth": 0,
             "ticks": ""
            },
            "colorscale": [
             [
              0,
              "#0d0887"
             ],
             [
              0.1111111111111111,
              "#46039f"
             ],
             [
              0.2222222222222222,
              "#7201a8"
             ],
             [
              0.3333333333333333,
              "#9c179e"
             ],
             [
              0.4444444444444444,
              "#bd3786"
             ],
             [
              0.5555555555555556,
              "#d8576b"
             ],
             [
              0.6666666666666666,
              "#ed7953"
             ],
             [
              0.7777777777777778,
              "#fb9f3a"
             ],
             [
              0.8888888888888888,
              "#fdca26"
             ],
             [
              1,
              "#f0f921"
             ]
            ],
            "type": "heatmapgl"
           }
          ],
          "histogram": [
           {
            "marker": {
             "pattern": {
              "fillmode": "overlay",
              "size": 10,
              "solidity": 0.2
             }
            },
            "type": "histogram"
           }
          ],
          "histogram2d": [
           {
            "colorbar": {
             "outlinewidth": 0,
             "ticks": ""
            },
            "colorscale": [
             [
              0,
              "#0d0887"
             ],
             [
              0.1111111111111111,
              "#46039f"
             ],
             [
              0.2222222222222222,
              "#7201a8"
             ],
             [
              0.3333333333333333,
              "#9c179e"
             ],
             [
              0.4444444444444444,
              "#bd3786"
             ],
             [
              0.5555555555555556,
              "#d8576b"
             ],
             [
              0.6666666666666666,
              "#ed7953"
             ],
             [
              0.7777777777777778,
              "#fb9f3a"
             ],
             [
              0.8888888888888888,
              "#fdca26"
             ],
             [
              1,
              "#f0f921"
             ]
            ],
            "type": "histogram2d"
           }
          ],
          "histogram2dcontour": [
           {
            "colorbar": {
             "outlinewidth": 0,
             "ticks": ""
            },
            "colorscale": [
             [
              0,
              "#0d0887"
             ],
             [
              0.1111111111111111,
              "#46039f"
             ],
             [
              0.2222222222222222,
              "#7201a8"
             ],
             [
              0.3333333333333333,
              "#9c179e"
             ],
             [
              0.4444444444444444,
              "#bd3786"
             ],
             [
              0.5555555555555556,
              "#d8576b"
             ],
             [
              0.6666666666666666,
              "#ed7953"
             ],
             [
              0.7777777777777778,
              "#fb9f3a"
             ],
             [
              0.8888888888888888,
              "#fdca26"
             ],
             [
              1,
              "#f0f921"
             ]
            ],
            "type": "histogram2dcontour"
           }
          ],
          "mesh3d": [
           {
            "colorbar": {
             "outlinewidth": 0,
             "ticks": ""
            },
            "type": "mesh3d"
           }
          ],
          "parcoords": [
           {
            "line": {
             "colorbar": {
              "outlinewidth": 0,
              "ticks": ""
             }
            },
            "type": "parcoords"
           }
          ],
          "pie": [
           {
            "automargin": true,
            "type": "pie"
           }
          ],
          "scatter": [
           {
            "fillpattern": {
             "fillmode": "overlay",
             "size": 10,
             "solidity": 0.2
            },
            "type": "scatter"
           }
          ],
          "scatter3d": [
           {
            "line": {
             "colorbar": {
              "outlinewidth": 0,
              "ticks": ""
             }
            },
            "marker": {
             "colorbar": {
              "outlinewidth": 0,
              "ticks": ""
             }
            },
            "type": "scatter3d"
           }
          ],
          "scattercarpet": [
           {
            "marker": {
             "colorbar": {
              "outlinewidth": 0,
              "ticks": ""
             }
            },
            "type": "scattercarpet"
           }
          ],
          "scattergeo": [
           {
            "marker": {
             "colorbar": {
              "outlinewidth": 0,
              "ticks": ""
             }
            },
            "type": "scattergeo"
           }
          ],
          "scattergl": [
           {
            "marker": {
             "colorbar": {
              "outlinewidth": 0,
              "ticks": ""
             }
            },
            "type": "scattergl"
           }
          ],
          "scattermapbox": [
           {
            "marker": {
             "colorbar": {
              "outlinewidth": 0,
              "ticks": ""
             }
            },
            "type": "scattermapbox"
           }
          ],
          "scatterpolar": [
           {
            "marker": {
             "colorbar": {
              "outlinewidth": 0,
              "ticks": ""
             }
            },
            "type": "scatterpolar"
           }
          ],
          "scatterpolargl": [
           {
            "marker": {
             "colorbar": {
              "outlinewidth": 0,
              "ticks": ""
             }
            },
            "type": "scatterpolargl"
           }
          ],
          "scatterternary": [
           {
            "marker": {
             "colorbar": {
              "outlinewidth": 0,
              "ticks": ""
             }
            },
            "type": "scatterternary"
           }
          ],
          "surface": [
           {
            "colorbar": {
             "outlinewidth": 0,
             "ticks": ""
            },
            "colorscale": [
             [
              0,
              "#0d0887"
             ],
             [
              0.1111111111111111,
              "#46039f"
             ],
             [
              0.2222222222222222,
              "#7201a8"
             ],
             [
              0.3333333333333333,
              "#9c179e"
             ],
             [
              0.4444444444444444,
              "#bd3786"
             ],
             [
              0.5555555555555556,
              "#d8576b"
             ],
             [
              0.6666666666666666,
              "#ed7953"
             ],
             [
              0.7777777777777778,
              "#fb9f3a"
             ],
             [
              0.8888888888888888,
              "#fdca26"
             ],
             [
              1,
              "#f0f921"
             ]
            ],
            "type": "surface"
           }
          ],
          "table": [
           {
            "cells": {
             "fill": {
              "color": "#EBF0F8"
             },
             "line": {
              "color": "white"
             }
            },
            "header": {
             "fill": {
              "color": "#C8D4E3"
             },
             "line": {
              "color": "white"
             }
            },
            "type": "table"
           }
          ]
         },
         "layout": {
          "annotationdefaults": {
           "arrowcolor": "#2a3f5f",
           "arrowhead": 0,
           "arrowwidth": 1
          },
          "autotypenumbers": "strict",
          "coloraxis": {
           "colorbar": {
            "outlinewidth": 0,
            "ticks": ""
           }
          },
          "colorscale": {
           "diverging": [
            [
             0,
             "#8e0152"
            ],
            [
             0.1,
             "#c51b7d"
            ],
            [
             0.2,
             "#de77ae"
            ],
            [
             0.3,
             "#f1b6da"
            ],
            [
             0.4,
             "#fde0ef"
            ],
            [
             0.5,
             "#f7f7f7"
            ],
            [
             0.6,
             "#e6f5d0"
            ],
            [
             0.7,
             "#b8e186"
            ],
            [
             0.8,
             "#7fbc41"
            ],
            [
             0.9,
             "#4d9221"
            ],
            [
             1,
             "#276419"
            ]
           ],
           "sequential": [
            [
             0,
             "#0d0887"
            ],
            [
             0.1111111111111111,
             "#46039f"
            ],
            [
             0.2222222222222222,
             "#7201a8"
            ],
            [
             0.3333333333333333,
             "#9c179e"
            ],
            [
             0.4444444444444444,
             "#bd3786"
            ],
            [
             0.5555555555555556,
             "#d8576b"
            ],
            [
             0.6666666666666666,
             "#ed7953"
            ],
            [
             0.7777777777777778,
             "#fb9f3a"
            ],
            [
             0.8888888888888888,
             "#fdca26"
            ],
            [
             1,
             "#f0f921"
            ]
           ],
           "sequentialminus": [
            [
             0,
             "#0d0887"
            ],
            [
             0.1111111111111111,
             "#46039f"
            ],
            [
             0.2222222222222222,
             "#7201a8"
            ],
            [
             0.3333333333333333,
             "#9c179e"
            ],
            [
             0.4444444444444444,
             "#bd3786"
            ],
            [
             0.5555555555555556,
             "#d8576b"
            ],
            [
             0.6666666666666666,
             "#ed7953"
            ],
            [
             0.7777777777777778,
             "#fb9f3a"
            ],
            [
             0.8888888888888888,
             "#fdca26"
            ],
            [
             1,
             "#f0f921"
            ]
           ]
          },
          "colorway": [
           "#636efa",
           "#EF553B",
           "#00cc96",
           "#ab63fa",
           "#FFA15A",
           "#19d3f3",
           "#FF6692",
           "#B6E880",
           "#FF97FF",
           "#FECB52"
          ],
          "font": {
           "color": "#2a3f5f"
          },
          "geo": {
           "bgcolor": "white",
           "lakecolor": "white",
           "landcolor": "#E5ECF6",
           "showlakes": true,
           "showland": true,
           "subunitcolor": "white"
          },
          "hoverlabel": {
           "align": "left"
          },
          "hovermode": "closest",
          "mapbox": {
           "style": "light"
          },
          "paper_bgcolor": "white",
          "plot_bgcolor": "#E5ECF6",
          "polar": {
           "angularaxis": {
            "gridcolor": "white",
            "linecolor": "white",
            "ticks": ""
           },
           "bgcolor": "#E5ECF6",
           "radialaxis": {
            "gridcolor": "white",
            "linecolor": "white",
            "ticks": ""
           }
          },
          "scene": {
           "xaxis": {
            "backgroundcolor": "#E5ECF6",
            "gridcolor": "white",
            "gridwidth": 2,
            "linecolor": "white",
            "showbackground": true,
            "ticks": "",
            "zerolinecolor": "white"
           },
           "yaxis": {
            "backgroundcolor": "#E5ECF6",
            "gridcolor": "white",
            "gridwidth": 2,
            "linecolor": "white",
            "showbackground": true,
            "ticks": "",
            "zerolinecolor": "white"
           },
           "zaxis": {
            "backgroundcolor": "#E5ECF6",
            "gridcolor": "white",
            "gridwidth": 2,
            "linecolor": "white",
            "showbackground": true,
            "ticks": "",
            "zerolinecolor": "white"
           }
          },
          "shapedefaults": {
           "line": {
            "color": "#2a3f5f"
           }
          },
          "ternary": {
           "aaxis": {
            "gridcolor": "white",
            "linecolor": "white",
            "ticks": ""
           },
           "baxis": {
            "gridcolor": "white",
            "linecolor": "white",
            "ticks": ""
           },
           "bgcolor": "#E5ECF6",
           "caxis": {
            "gridcolor": "white",
            "linecolor": "white",
            "ticks": ""
           }
          },
          "title": {
           "x": 0.05
          },
          "xaxis": {
           "automargin": true,
           "gridcolor": "white",
           "linecolor": "white",
           "ticks": "",
           "title": {
            "standoff": 15
           },
           "zerolinecolor": "white",
           "zerolinewidth": 2
          },
          "yaxis": {
           "automargin": true,
           "gridcolor": "white",
           "linecolor": "white",
           "ticks": "",
           "title": {
            "standoff": 15
           },
           "zerolinecolor": "white",
           "zerolinewidth": 2
          }
         }
        },
        "title": {
         "text": "Public Sentiment on Renewable Energy Transition by State",
         "x": 0.5,
         "xanchor": "center",
         "y": 0.95,
         "yanchor": "top"
        },
        "updatemenus": [
         {
          "active": 0,
          "buttons": [
           {
            "args": [
             {
              "visible": [
               true,
               false,
               false,
               false,
               false,
               false,
               false
              ]
             },
             {
              "title": "Public Sentiment on Renewable Energy Transition in VIC"
             }
            ],
            "label": "VIC",
            "method": "update"
           },
           {
            "args": [
             {
              "visible": [
               false,
               true,
               false,
               false,
               false,
               false,
               false
              ]
             },
             {
              "title": "Public Sentiment on Renewable Energy Transition in NSW"
             }
            ],
            "label": "NSW",
            "method": "update"
           },
           {
            "args": [
             {
              "visible": [
               false,
               false,
               true,
               false,
               false,
               false,
               false
              ]
             },
             {
              "title": "Public Sentiment on Renewable Energy Transition in QLD"
             }
            ],
            "label": "QLD",
            "method": "update"
           },
           {
            "args": [
             {
              "visible": [
               false,
               false,
               false,
               true,
               false,
               false,
               false
              ]
             },
             {
              "title": "Public Sentiment on Renewable Energy Transition in WA"
             }
            ],
            "label": "WA",
            "method": "update"
           },
           {
            "args": [
             {
              "visible": [
               false,
               false,
               false,
               false,
               true,
               false,
               false
              ]
             },
             {
              "title": "Public Sentiment on Renewable Energy Transition in SA"
             }
            ],
            "label": "SA",
            "method": "update"
           },
           {
            "args": [
             {
              "visible": [
               false,
               false,
               false,
               false,
               false,
               true,
               false
              ]
             },
             {
              "title": "Public Sentiment on Renewable Energy Transition in TAS"
             }
            ],
            "label": "TAS",
            "method": "update"
           },
           {
            "args": [
             {
              "visible": [
               false,
               false,
               false,
               false,
               false,
               false,
               true
              ]
             },
             {
              "title": "Public Sentiment on Renewable Energy Transition in ACT"
             }
            ],
            "label": "ACT",
            "method": "update"
           }
          ],
          "x": 1.15,
          "y": 1.15
         }
        ],
        "xaxis": {
         "tickformat": ".0%",
         "title": {
          "text": "Percentage of Respondents (%)"
         }
        },
        "yaxis": {
         "title": {
          "text": "Public Opinions"
         }
        }
       }
      }
     },
     "metadata": {},
     "output_type": "display_data"
    }
   ],
   "source": [
    "# Ensure that all state columns are numeric (convert strings or NaNs to numeric, with invalid values turned into NaN)\n",
    "for state in ['NSW', 'VIC', 'QLD', 'WA', 'SA', 'TAS', 'ACT']:\n",
    "    states_to_visualize[state] = pd.to_numeric(states_to_visualize[state], errors='coerce')\n",
    "\n",
    "# Define custom colors for each state\n",
    "colors = {\n",
    "    'NSW': '#636EFA', \n",
    "    'VIC': '#EF553B', \n",
    "    'QLD': '#00CC96', \n",
    "    'WA': '#AB63FA', \n",
    "    'SA': '#FFA15A', \n",
    "    'TAS': '#19D3F3', \n",
    "    'ACT': '#FF6692'\n",
    "}\n",
    "\n",
    "# Create the interactive figure using dropdowns\n",
    "fig = go.Figure()\n",
    "\n",
    "# Create a sorted bar chart for each state\n",
    "for state in ['NSW', 'VIC', 'QLD', 'WA', 'SA', 'TAS', 'ACT']:\n",
    "    sorted_data = states_to_visualize.sort_values(by=state, ascending=False)\n",
    "    fig.add_trace(go.Bar(y=sorted_data['Statement'],\n",
    "                         x=sorted_data[state],\n",
    "                         text=sorted_data[state].apply(lambda x: f'{x:.1%}' if pd.notna(x) else ''),  # Format values as percentages\n",
    "                         textposition='auto',\n",
    "                         marker_color=colors[state],\n",
    "                         orientation='h',  # Horizontal bar chart\n",
    "                         name=state,\n",
    "                         visible=False))\n",
    "\n",
    "# Set the initial visible state to NSW\n",
    "fig.data[0].visible = True\n",
    "\n",
    "# Create the dropdown menu for state selection\n",
    "dropdown_buttons = []\n",
    "for i, state in enumerate(['VIC', 'NSW', 'QLD', 'WA', 'SA', 'TAS', 'ACT']):\n",
    "    dropdown_buttons.append(\n",
    "        dict(\n",
    "            method='update',\n",
    "            label=state,\n",
    "            args=[{'visible': [j == i for j in range(len(fig.data))]},  # Set visibility for the selected state\n",
    "                  {'title': f'Public Sentiment on Renewable Energy Transition in {state}'}]\n",
    "        )\n",
    "    )\n",
    "\n",
    "# Update the layout with a centered title and other improvements\n",
    "fig.update_layout(\n",
    "    updatemenus=[dict(\n",
    "        active=0,\n",
    "        buttons=dropdown_buttons,\n",
    "        x=1.15,\n",
    "        y=1.15\n",
    "    )],\n",
    "    title={\n",
    "        'text': \"Public Sentiment on Renewable Energy Transition by State\",\n",
    "        'y': 0.95,\n",
    "        'x': 0.5,\n",
    "        'xanchor': 'center',\n",
    "        'yanchor': 'top'\n",
    "    },\n",
    "    yaxis_title=\"Public Opinions\",\n",
    "    xaxis_title=\"Percentage of Respondents (%)\",\n",
    "    xaxis_tickformat=\".0%\",\n",
    "    showlegend=False\n",
    ")\n",
    "\n",
    "# Display the interactive figure\n",
    "fig.show()\n",
    "fig.write_json(\"Public_outlook_renewable_by_state\")"
   ]
  },
  {
   "cell_type": "markdown",
   "id": "0f32cb88",
   "metadata": {},
   "source": [
    "#### **Summary:**\n",
    "The visualization above shows that a large percentage of consumers believe that transitioning to renewable energy will make electricity more expensive, with high agreement levels in several states.\n"
   ]
  },
  {
   "cell_type": "markdown",
   "id": "65a1bde4",
   "metadata": {},
   "source": [
    "## Visualizing Concerns About People's Ability to Pay"
   ]
  },
  {
   "cell_type": "markdown",
   "id": "a4f81daa",
   "metadata": {},
   "source": [
    "Now we will clean and visualize data from the Concern for Ability to Pay sheet using a heatmap."
   ]
  },
  {
   "cell_type": "markdown",
   "id": "f5425138",
   "metadata": {},
   "source": [
    "#### Cleaning and Preprocessing Data for Visualization"
   ]
  },
  {
   "cell_type": "code",
   "execution_count": 9,
   "id": "672f657b",
   "metadata": {},
   "outputs": [
    {
     "name": "stdout",
     "output_type": "stream",
     "text": [
      "2                    Column %  All households  Young Household  \\\n",
      "0              Strongly agree        0.211570         0.263780   \n",
      "1              Somewhat agree        0.277599         0.381896   \n",
      "2  Neither agree nor disagree        0.223297         0.190366   \n",
      "3           Somewhat disagree        0.134297         0.081070   \n",
      "4           Strongly disagree        0.144854         0.061740   \n",
      "\n",
      "2  Family Household  Older Household  Retired Household       NSW     VIC  \\\n",
      "0          0.305283         0.229146           0.129591  0.226933  0.2100   \n",
      "1          0.340967         0.282863           0.207261  0.284289  0.2750   \n",
      "2          0.200096         0.225980           0.244328  0.206983  0.2325   \n",
      "3          0.080487         0.126662           0.186232  0.122195  0.1525   \n",
      "4          0.071271         0.127033           0.223973  0.147132  0.1275   \n",
      "\n",
      "2       QLD        WA  ...  Country Town     Rural  Financially comfortable  \\\n",
      "0  0.226667  0.203333  ...      0.194710  0.248220                 0.045291   \n",
      "1  0.250000  0.286667  ...      0.231952  0.275792                 0.159171   \n",
      "2  0.226667  0.203333  ...      0.234940  0.196415                 0.244923   \n",
      "3  0.120000  0.150000  ...      0.172593  0.131504                 0.215760   \n",
      "4  0.170000  0.146667  ...      0.159936  0.133494                 0.327221   \n",
      "\n",
      "2  Manage household bills but struggle to afford anything extra  \\\n",
      "0                                           0.187062              \n",
      "1                                           0.358083              \n",
      "2                                           0.263651              \n",
      "3                                           0.121070              \n",
      "4                                           0.060511              \n",
      "\n",
      "2  Under financial pressure  Homeowner    Renter     House  \\\n",
      "0                  0.540841   0.163507  0.329703  0.207645   \n",
      "1                  0.301614   0.262727  0.307512  0.274354   \n",
      "2                  0.100590   0.239960  0.187799  0.220713   \n",
      "3                  0.027213   0.152560  0.090375  0.138509   \n",
      "4                  0.022769   0.175144  0.072961  0.153009   \n",
      "\n",
      "2  Townhouse or duplex  Unit, flat or apartment  \n",
      "0             0.225003                 0.229690  \n",
      "1             0.313014                 0.276246  \n",
      "2             0.177277                 0.252236  \n",
      "3             0.133376                 0.119999  \n",
      "4             0.141366                 0.111879  \n",
      "\n",
      "[5 rows x 25 columns]\n"
     ]
    }
   ],
   "source": [
    "# Load the 'Concern for Ability to Pay' sheet and clean it\n",
    "concern_for_ability_to_pay = data['Concern for ability to pay'].copy()\n",
    "\n",
    "# Clean and rename headers based on actual data structure\n",
    "headers = concern_for_ability_to_pay.iloc[2]\n",
    "concern_for_ability_to_pay_cleaned = concern_for_ability_to_pay.drop([0, 1, 2]).reset_index(drop=True)\n",
    "concern_for_ability_to_pay_cleaned.columns = headers\n",
    "\n",
    "# Drop fully empty columns and convert relevant columns to numeric\n",
    "concern_for_ability_to_pay_cleaned = concern_for_ability_to_pay_cleaned.dropna(how='all', axis=1)\n",
    "concern_for_ability_to_pay_cleaned = concern_for_ability_to_pay_cleaned.apply(pd.to_numeric, errors='ignore')\n",
    "\n",
    "# Inspect the cleaned data\n",
    "print(concern_for_ability_to_pay_cleaned.head())\n"
   ]
  },
  {
   "cell_type": "markdown",
   "id": "ddcfa174",
   "metadata": {},
   "source": [
    "### Heatmap of Concern Levels"
   ]
  },
  {
   "cell_type": "code",
   "execution_count": 14,
   "id": "07d9a9a3",
   "metadata": {},
   "outputs": [
    {
     "data": {
      "application/vnd.plotly.v1+json": {
       "config": {
        "plotlyServerURL": "https://plot.ly"
       },
       "data": [
        {
         "coloraxis": "coloraxis",
         "histfunc": "sum",
         "hovertemplate": "Category=%{x}<br>Column %=%{y}<br>sum of Concern Level=%{z}<extra></extra>",
         "name": "",
         "textfont": {
          "size": 10
         },
         "texttemplate": "%{z:.1f}%",
         "type": "histogram2d",
         "x": [
          "All households",
          "All households",
          "All households",
          "All households",
          "All households",
          "All households",
          "All households",
          "All households",
          "All households",
          "Young Household",
          "Young Household",
          "Young Household",
          "Young Household",
          "Young Household",
          "Young Household",
          "Young Household",
          "Young Household",
          "Young Household",
          "Family Household",
          "Family Household",
          "Family Household",
          "Family Household",
          "Family Household",
          "Family Household",
          "Family Household",
          "Family Household",
          "Family Household",
          "Older Household",
          "Older Household",
          "Older Household",
          "Older Household",
          "Older Household",
          "Older Household",
          "Older Household",
          "Older Household",
          "Older Household",
          "Retired Household",
          "Retired Household",
          "Retired Household",
          "Retired Household",
          "Retired Household",
          "Retired Household",
          "Retired Household",
          "Retired Household",
          "Retired Household",
          "NSW",
          "NSW",
          "NSW",
          "NSW",
          "NSW",
          "NSW",
          "NSW",
          "NSW",
          "NSW",
          "VIC",
          "VIC",
          "VIC",
          "VIC",
          "VIC",
          "VIC",
          "VIC",
          "VIC",
          "VIC",
          "QLD",
          "QLD",
          "QLD",
          "QLD",
          "QLD",
          "QLD",
          "QLD",
          "QLD",
          "QLD",
          "WA",
          "WA",
          "WA",
          "WA",
          "WA",
          "WA",
          "WA",
          "WA",
          "WA"
         ],
         "xaxis": "x",
         "xbingroup": "x",
         "y": [
          "Strongly agree",
          "Somewhat agree",
          "Neither agree nor disagree",
          "Somewhat disagree",
          "Strongly disagree",
          "Unsure",
          "Strongly agree + Somewhat agree",
          "Neither agree nor disagree + Unsure",
          "Somewhat disagree + Strongly disagree",
          "Strongly agree",
          "Somewhat agree",
          "Neither agree nor disagree",
          "Somewhat disagree",
          "Strongly disagree",
          "Unsure",
          "Strongly agree + Somewhat agree",
          "Neither agree nor disagree + Unsure",
          "Somewhat disagree + Strongly disagree",
          "Strongly agree",
          "Somewhat agree",
          "Neither agree nor disagree",
          "Somewhat disagree",
          "Strongly disagree",
          "Unsure",
          "Strongly agree + Somewhat agree",
          "Neither agree nor disagree + Unsure",
          "Somewhat disagree + Strongly disagree",
          "Strongly agree",
          "Somewhat agree",
          "Neither agree nor disagree",
          "Somewhat disagree",
          "Strongly disagree",
          "Unsure",
          "Strongly agree + Somewhat agree",
          "Neither agree nor disagree + Unsure",
          "Somewhat disagree + Strongly disagree",
          "Strongly agree",
          "Somewhat agree",
          "Neither agree nor disagree",
          "Somewhat disagree",
          "Strongly disagree",
          "Unsure",
          "Strongly agree + Somewhat agree",
          "Neither agree nor disagree + Unsure",
          "Somewhat disagree + Strongly disagree",
          "Strongly agree",
          "Somewhat agree",
          "Neither agree nor disagree",
          "Somewhat disagree",
          "Strongly disagree",
          "Unsure",
          "Strongly agree + Somewhat agree",
          "Neither agree nor disagree + Unsure",
          "Somewhat disagree + Strongly disagree",
          "Strongly agree",
          "Somewhat agree",
          "Neither agree nor disagree",
          "Somewhat disagree",
          "Strongly disagree",
          "Unsure",
          "Strongly agree + Somewhat agree",
          "Neither agree nor disagree + Unsure",
          "Somewhat disagree + Strongly disagree",
          "Strongly agree",
          "Somewhat agree",
          "Neither agree nor disagree",
          "Somewhat disagree",
          "Strongly disagree",
          "Unsure",
          "Strongly agree + Somewhat agree",
          "Neither agree nor disagree + Unsure",
          "Somewhat disagree + Strongly disagree",
          "Strongly agree",
          "Somewhat agree",
          "Neither agree nor disagree",
          "Somewhat disagree",
          "Strongly disagree",
          "Unsure",
          "Strongly agree + Somewhat agree",
          "Neither agree nor disagree + Unsure",
          "Somewhat disagree + Strongly disagree"
         ],
         "yaxis": "y",
         "ybingroup": "y",
         "z": [
          21.15701028296,
          27.759850692440004,
          22.329657642809998,
          13.42965243591,
          14.4853766765,
          0.8384522693759999,
          48.916860975389994,
          23.168109912189998,
          27.915029112419997,
          26.377984376129998,
          38.18958726339,
          19.03657057665,
          8.106957828477,
          6.173995255719,
          2.11490469963,
          64.56757163952001,
          21.15147527628,
          14.280953084199998,
          30.5282836529,
          34.096726406580004,
          20.009559832849998,
          8.048660909608001,
          7.127063011031,
          0.1897061870268,
          64.62501005949,
          20.19926601987,
          15.17572392064,
          22.914627825940002,
          28.28627643636,
          22.59797424836,
          12.6662089865,
          12.70328591389,
          0.8316265889442,
          51.20090426229999,
          23.429600837309998,
          25.36949490039,
          12.9591183303,
          20.72605978389,
          24.432832948639998,
          18.623179555550003,
          22.39734580569,
          0.8614635759384001,
          33.68517811418,
          25.29429652458,
          41.020525361240004,
          22.69326683292,
          28.428927680799998,
          20.698254364089998,
          12.21945137157,
          14.713216957610001,
          1.2468827930170001,
          51.12219451372,
          21.94513715711,
          26.932668329179997,
          21,
          27.500000000000004,
          23.25,
          15.25,
          12.75,
          0.25,
          48.5,
          23.5,
          28.000000000000004,
          22.66666666667,
          25,
          22.66666666667,
          12,
          17,
          0.6666666666667,
          47.66666666667,
          23.33333333333,
          28.999999999999996,
          20.33333333333,
          28.66666666667,
          20.33333333333,
          15,
          14.66666666667,
          1,
          49,
          21.33333333333,
          29.66666666667
         ]
        }
       ],
       "layout": {
        "coloraxis": {
         "colorbar": {
          "title": {
           "text": "Concern Level (%)"
          }
         },
         "colorscale": [
          [
           0,
           "rgb(247,251,255)"
          ],
          [
           0.125,
           "rgb(222,235,247)"
          ],
          [
           0.25,
           "rgb(198,219,239)"
          ],
          [
           0.375,
           "rgb(158,202,225)"
          ],
          [
           0.5,
           "rgb(107,174,214)"
          ],
          [
           0.625,
           "rgb(66,146,198)"
          ],
          [
           0.75,
           "rgb(33,113,181)"
          ],
          [
           0.875,
           "rgb(8,81,156)"
          ],
          [
           1,
           "rgb(8,48,107)"
          ]
         ]
        },
        "legend": {
         "tracegroupgap": 0
        },
        "template": {
         "data": {
          "bar": [
           {
            "error_x": {
             "color": "#2a3f5f"
            },
            "error_y": {
             "color": "#2a3f5f"
            },
            "marker": {
             "line": {
              "color": "#E5ECF6",
              "width": 0.5
             },
             "pattern": {
              "fillmode": "overlay",
              "size": 10,
              "solidity": 0.2
             }
            },
            "type": "bar"
           }
          ],
          "barpolar": [
           {
            "marker": {
             "line": {
              "color": "#E5ECF6",
              "width": 0.5
             },
             "pattern": {
              "fillmode": "overlay",
              "size": 10,
              "solidity": 0.2
             }
            },
            "type": "barpolar"
           }
          ],
          "carpet": [
           {
            "aaxis": {
             "endlinecolor": "#2a3f5f",
             "gridcolor": "white",
             "linecolor": "white",
             "minorgridcolor": "white",
             "startlinecolor": "#2a3f5f"
            },
            "baxis": {
             "endlinecolor": "#2a3f5f",
             "gridcolor": "white",
             "linecolor": "white",
             "minorgridcolor": "white",
             "startlinecolor": "#2a3f5f"
            },
            "type": "carpet"
           }
          ],
          "choropleth": [
           {
            "colorbar": {
             "outlinewidth": 0,
             "ticks": ""
            },
            "type": "choropleth"
           }
          ],
          "contour": [
           {
            "colorbar": {
             "outlinewidth": 0,
             "ticks": ""
            },
            "colorscale": [
             [
              0,
              "#0d0887"
             ],
             [
              0.1111111111111111,
              "#46039f"
             ],
             [
              0.2222222222222222,
              "#7201a8"
             ],
             [
              0.3333333333333333,
              "#9c179e"
             ],
             [
              0.4444444444444444,
              "#bd3786"
             ],
             [
              0.5555555555555556,
              "#d8576b"
             ],
             [
              0.6666666666666666,
              "#ed7953"
             ],
             [
              0.7777777777777778,
              "#fb9f3a"
             ],
             [
              0.8888888888888888,
              "#fdca26"
             ],
             [
              1,
              "#f0f921"
             ]
            ],
            "type": "contour"
           }
          ],
          "contourcarpet": [
           {
            "colorbar": {
             "outlinewidth": 0,
             "ticks": ""
            },
            "type": "contourcarpet"
           }
          ],
          "heatmap": [
           {
            "colorbar": {
             "outlinewidth": 0,
             "ticks": ""
            },
            "colorscale": [
             [
              0,
              "#0d0887"
             ],
             [
              0.1111111111111111,
              "#46039f"
             ],
             [
              0.2222222222222222,
              "#7201a8"
             ],
             [
              0.3333333333333333,
              "#9c179e"
             ],
             [
              0.4444444444444444,
              "#bd3786"
             ],
             [
              0.5555555555555556,
              "#d8576b"
             ],
             [
              0.6666666666666666,
              "#ed7953"
             ],
             [
              0.7777777777777778,
              "#fb9f3a"
             ],
             [
              0.8888888888888888,
              "#fdca26"
             ],
             [
              1,
              "#f0f921"
             ]
            ],
            "type": "heatmap"
           }
          ],
          "heatmapgl": [
           {
            "colorbar": {
             "outlinewidth": 0,
             "ticks": ""
            },
            "colorscale": [
             [
              0,
              "#0d0887"
             ],
             [
              0.1111111111111111,
              "#46039f"
             ],
             [
              0.2222222222222222,
              "#7201a8"
             ],
             [
              0.3333333333333333,
              "#9c179e"
             ],
             [
              0.4444444444444444,
              "#bd3786"
             ],
             [
              0.5555555555555556,
              "#d8576b"
             ],
             [
              0.6666666666666666,
              "#ed7953"
             ],
             [
              0.7777777777777778,
              "#fb9f3a"
             ],
             [
              0.8888888888888888,
              "#fdca26"
             ],
             [
              1,
              "#f0f921"
             ]
            ],
            "type": "heatmapgl"
           }
          ],
          "histogram": [
           {
            "marker": {
             "pattern": {
              "fillmode": "overlay",
              "size": 10,
              "solidity": 0.2
             }
            },
            "type": "histogram"
           }
          ],
          "histogram2d": [
           {
            "colorbar": {
             "outlinewidth": 0,
             "ticks": ""
            },
            "colorscale": [
             [
              0,
              "#0d0887"
             ],
             [
              0.1111111111111111,
              "#46039f"
             ],
             [
              0.2222222222222222,
              "#7201a8"
             ],
             [
              0.3333333333333333,
              "#9c179e"
             ],
             [
              0.4444444444444444,
              "#bd3786"
             ],
             [
              0.5555555555555556,
              "#d8576b"
             ],
             [
              0.6666666666666666,
              "#ed7953"
             ],
             [
              0.7777777777777778,
              "#fb9f3a"
             ],
             [
              0.8888888888888888,
              "#fdca26"
             ],
             [
              1,
              "#f0f921"
             ]
            ],
            "type": "histogram2d"
           }
          ],
          "histogram2dcontour": [
           {
            "colorbar": {
             "outlinewidth": 0,
             "ticks": ""
            },
            "colorscale": [
             [
              0,
              "#0d0887"
             ],
             [
              0.1111111111111111,
              "#46039f"
             ],
             [
              0.2222222222222222,
              "#7201a8"
             ],
             [
              0.3333333333333333,
              "#9c179e"
             ],
             [
              0.4444444444444444,
              "#bd3786"
             ],
             [
              0.5555555555555556,
              "#d8576b"
             ],
             [
              0.6666666666666666,
              "#ed7953"
             ],
             [
              0.7777777777777778,
              "#fb9f3a"
             ],
             [
              0.8888888888888888,
              "#fdca26"
             ],
             [
              1,
              "#f0f921"
             ]
            ],
            "type": "histogram2dcontour"
           }
          ],
          "mesh3d": [
           {
            "colorbar": {
             "outlinewidth": 0,
             "ticks": ""
            },
            "type": "mesh3d"
           }
          ],
          "parcoords": [
           {
            "line": {
             "colorbar": {
              "outlinewidth": 0,
              "ticks": ""
             }
            },
            "type": "parcoords"
           }
          ],
          "pie": [
           {
            "automargin": true,
            "type": "pie"
           }
          ],
          "scatter": [
           {
            "fillpattern": {
             "fillmode": "overlay",
             "size": 10,
             "solidity": 0.2
            },
            "type": "scatter"
           }
          ],
          "scatter3d": [
           {
            "line": {
             "colorbar": {
              "outlinewidth": 0,
              "ticks": ""
             }
            },
            "marker": {
             "colorbar": {
              "outlinewidth": 0,
              "ticks": ""
             }
            },
            "type": "scatter3d"
           }
          ],
          "scattercarpet": [
           {
            "marker": {
             "colorbar": {
              "outlinewidth": 0,
              "ticks": ""
             }
            },
            "type": "scattercarpet"
           }
          ],
          "scattergeo": [
           {
            "marker": {
             "colorbar": {
              "outlinewidth": 0,
              "ticks": ""
             }
            },
            "type": "scattergeo"
           }
          ],
          "scattergl": [
           {
            "marker": {
             "colorbar": {
              "outlinewidth": 0,
              "ticks": ""
             }
            },
            "type": "scattergl"
           }
          ],
          "scattermapbox": [
           {
            "marker": {
             "colorbar": {
              "outlinewidth": 0,
              "ticks": ""
             }
            },
            "type": "scattermapbox"
           }
          ],
          "scatterpolar": [
           {
            "marker": {
             "colorbar": {
              "outlinewidth": 0,
              "ticks": ""
             }
            },
            "type": "scatterpolar"
           }
          ],
          "scatterpolargl": [
           {
            "marker": {
             "colorbar": {
              "outlinewidth": 0,
              "ticks": ""
             }
            },
            "type": "scatterpolargl"
           }
          ],
          "scatterternary": [
           {
            "marker": {
             "colorbar": {
              "outlinewidth": 0,
              "ticks": ""
             }
            },
            "type": "scatterternary"
           }
          ],
          "surface": [
           {
            "colorbar": {
             "outlinewidth": 0,
             "ticks": ""
            },
            "colorscale": [
             [
              0,
              "#0d0887"
             ],
             [
              0.1111111111111111,
              "#46039f"
             ],
             [
              0.2222222222222222,
              "#7201a8"
             ],
             [
              0.3333333333333333,
              "#9c179e"
             ],
             [
              0.4444444444444444,
              "#bd3786"
             ],
             [
              0.5555555555555556,
              "#d8576b"
             ],
             [
              0.6666666666666666,
              "#ed7953"
             ],
             [
              0.7777777777777778,
              "#fb9f3a"
             ],
             [
              0.8888888888888888,
              "#fdca26"
             ],
             [
              1,
              "#f0f921"
             ]
            ],
            "type": "surface"
           }
          ],
          "table": [
           {
            "cells": {
             "fill": {
              "color": "#EBF0F8"
             },
             "line": {
              "color": "white"
             }
            },
            "header": {
             "fill": {
              "color": "#C8D4E3"
             },
             "line": {
              "color": "white"
             }
            },
            "type": "table"
           }
          ]
         },
         "layout": {
          "annotationdefaults": {
           "arrowcolor": "#2a3f5f",
           "arrowhead": 0,
           "arrowwidth": 1
          },
          "autotypenumbers": "strict",
          "coloraxis": {
           "colorbar": {
            "outlinewidth": 0,
            "ticks": ""
           }
          },
          "colorscale": {
           "diverging": [
            [
             0,
             "#8e0152"
            ],
            [
             0.1,
             "#c51b7d"
            ],
            [
             0.2,
             "#de77ae"
            ],
            [
             0.3,
             "#f1b6da"
            ],
            [
             0.4,
             "#fde0ef"
            ],
            [
             0.5,
             "#f7f7f7"
            ],
            [
             0.6,
             "#e6f5d0"
            ],
            [
             0.7,
             "#b8e186"
            ],
            [
             0.8,
             "#7fbc41"
            ],
            [
             0.9,
             "#4d9221"
            ],
            [
             1,
             "#276419"
            ]
           ],
           "sequential": [
            [
             0,
             "#0d0887"
            ],
            [
             0.1111111111111111,
             "#46039f"
            ],
            [
             0.2222222222222222,
             "#7201a8"
            ],
            [
             0.3333333333333333,
             "#9c179e"
            ],
            [
             0.4444444444444444,
             "#bd3786"
            ],
            [
             0.5555555555555556,
             "#d8576b"
            ],
            [
             0.6666666666666666,
             "#ed7953"
            ],
            [
             0.7777777777777778,
             "#fb9f3a"
            ],
            [
             0.8888888888888888,
             "#fdca26"
            ],
            [
             1,
             "#f0f921"
            ]
           ],
           "sequentialminus": [
            [
             0,
             "#0d0887"
            ],
            [
             0.1111111111111111,
             "#46039f"
            ],
            [
             0.2222222222222222,
             "#7201a8"
            ],
            [
             0.3333333333333333,
             "#9c179e"
            ],
            [
             0.4444444444444444,
             "#bd3786"
            ],
            [
             0.5555555555555556,
             "#d8576b"
            ],
            [
             0.6666666666666666,
             "#ed7953"
            ],
            [
             0.7777777777777778,
             "#fb9f3a"
            ],
            [
             0.8888888888888888,
             "#fdca26"
            ],
            [
             1,
             "#f0f921"
            ]
           ]
          },
          "colorway": [
           "#636efa",
           "#EF553B",
           "#00cc96",
           "#ab63fa",
           "#FFA15A",
           "#19d3f3",
           "#FF6692",
           "#B6E880",
           "#FF97FF",
           "#FECB52"
          ],
          "font": {
           "color": "#2a3f5f"
          },
          "geo": {
           "bgcolor": "white",
           "lakecolor": "white",
           "landcolor": "#E5ECF6",
           "showlakes": true,
           "showland": true,
           "subunitcolor": "white"
          },
          "hoverlabel": {
           "align": "left"
          },
          "hovermode": "closest",
          "mapbox": {
           "style": "light"
          },
          "paper_bgcolor": "white",
          "plot_bgcolor": "#E5ECF6",
          "polar": {
           "angularaxis": {
            "gridcolor": "white",
            "linecolor": "white",
            "ticks": ""
           },
           "bgcolor": "#E5ECF6",
           "radialaxis": {
            "gridcolor": "white",
            "linecolor": "white",
            "ticks": ""
           }
          },
          "scene": {
           "xaxis": {
            "backgroundcolor": "#E5ECF6",
            "gridcolor": "white",
            "gridwidth": 2,
            "linecolor": "white",
            "showbackground": true,
            "ticks": "",
            "zerolinecolor": "white"
           },
           "yaxis": {
            "backgroundcolor": "#E5ECF6",
            "gridcolor": "white",
            "gridwidth": 2,
            "linecolor": "white",
            "showbackground": true,
            "ticks": "",
            "zerolinecolor": "white"
           },
           "zaxis": {
            "backgroundcolor": "#E5ECF6",
            "gridcolor": "white",
            "gridwidth": 2,
            "linecolor": "white",
            "showbackground": true,
            "ticks": "",
            "zerolinecolor": "white"
           }
          },
          "shapedefaults": {
           "line": {
            "color": "#2a3f5f"
           }
          },
          "ternary": {
           "aaxis": {
            "gridcolor": "white",
            "linecolor": "white",
            "ticks": ""
           },
           "baxis": {
            "gridcolor": "white",
            "linecolor": "white",
            "ticks": ""
           },
           "bgcolor": "#E5ECF6",
           "caxis": {
            "gridcolor": "white",
            "linecolor": "white",
            "ticks": ""
           }
          },
          "title": {
           "x": 0.05
          },
          "xaxis": {
           "automargin": true,
           "gridcolor": "white",
           "linecolor": "white",
           "ticks": "",
           "title": {
            "standoff": 15
           },
           "zerolinecolor": "white",
           "zerolinewidth": 2
          },
          "yaxis": {
           "automargin": true,
           "gridcolor": "white",
           "linecolor": "white",
           "ticks": "",
           "title": {
            "standoff": 15
           },
           "zerolinecolor": "white",
           "zerolinewidth": 2
          }
         }
        },
        "title": {
         "text": "Concerns About Ability to Pay Across Household Types and States",
         "x": 0.5,
         "xanchor": "center"
        },
        "xaxis": {
         "anchor": "y",
         "domain": [
          0,
          1
         ],
         "title": {
          "text": "Household Type / State"
         }
        },
        "yaxis": {
         "anchor": "x",
         "domain": [
          0,
          1
         ],
         "title": {
          "text": "Level of Agreement"
         }
        }
       }
      },
      "text/html": [
       "<div>                            <div id=\"4c516b35-1b5e-4fb5-956c-b86413ac4362\" class=\"plotly-graph-div\" style=\"height:525px; width:100%;\"></div>            <script type=\"text/javascript\">                require([\"plotly\"], function(Plotly) {                    window.PLOTLYENV=window.PLOTLYENV || {};                                    if (document.getElementById(\"4c516b35-1b5e-4fb5-956c-b86413ac4362\")) {                    Plotly.newPlot(                        \"4c516b35-1b5e-4fb5-956c-b86413ac4362\",                        [{\"coloraxis\":\"coloraxis\",\"histfunc\":\"sum\",\"hovertemplate\":\"Category=%{x}\\u003cbr\\u003eColumn %=%{y}\\u003cbr\\u003esum of Concern Level=%{z}\\u003cextra\\u003e\\u003c\\u002fextra\\u003e\",\"name\":\"\",\"x\":[\"All households\",\"All households\",\"All households\",\"All households\",\"All households\",\"All households\",\"All households\",\"All households\",\"All households\",\"Young Household\",\"Young Household\",\"Young Household\",\"Young Household\",\"Young Household\",\"Young Household\",\"Young Household\",\"Young Household\",\"Young Household\",\"Family Household\",\"Family Household\",\"Family Household\",\"Family Household\",\"Family Household\",\"Family Household\",\"Family Household\",\"Family Household\",\"Family Household\",\"Older Household\",\"Older Household\",\"Older Household\",\"Older Household\",\"Older Household\",\"Older Household\",\"Older Household\",\"Older Household\",\"Older Household\",\"Retired Household\",\"Retired Household\",\"Retired Household\",\"Retired Household\",\"Retired Household\",\"Retired Household\",\"Retired Household\",\"Retired Household\",\"Retired Household\",\"NSW\",\"NSW\",\"NSW\",\"NSW\",\"NSW\",\"NSW\",\"NSW\",\"NSW\",\"NSW\",\"VIC\",\"VIC\",\"VIC\",\"VIC\",\"VIC\",\"VIC\",\"VIC\",\"VIC\",\"VIC\",\"QLD\",\"QLD\",\"QLD\",\"QLD\",\"QLD\",\"QLD\",\"QLD\",\"QLD\",\"QLD\",\"WA\",\"WA\",\"WA\",\"WA\",\"WA\",\"WA\",\"WA\",\"WA\",\"WA\"],\"xaxis\":\"x\",\"xbingroup\":\"x\",\"y\":[\"Strongly agree\",\"Somewhat agree\",\"Neither agree nor disagree\",\"Somewhat disagree\",\"Strongly disagree\",\"Unsure\",\"Strongly agree + Somewhat agree\",\"Neither agree nor disagree + Unsure\",\"Somewhat disagree + Strongly disagree\",\"Strongly agree\",\"Somewhat agree\",\"Neither agree nor disagree\",\"Somewhat disagree\",\"Strongly disagree\",\"Unsure\",\"Strongly agree + Somewhat agree\",\"Neither agree nor disagree + Unsure\",\"Somewhat disagree + Strongly disagree\",\"Strongly agree\",\"Somewhat agree\",\"Neither agree nor disagree\",\"Somewhat disagree\",\"Strongly disagree\",\"Unsure\",\"Strongly agree + Somewhat agree\",\"Neither agree nor disagree + Unsure\",\"Somewhat disagree + Strongly disagree\",\"Strongly agree\",\"Somewhat agree\",\"Neither agree nor disagree\",\"Somewhat disagree\",\"Strongly disagree\",\"Unsure\",\"Strongly agree + Somewhat agree\",\"Neither agree nor disagree + Unsure\",\"Somewhat disagree + Strongly disagree\",\"Strongly agree\",\"Somewhat agree\",\"Neither agree nor disagree\",\"Somewhat disagree\",\"Strongly disagree\",\"Unsure\",\"Strongly agree + Somewhat agree\",\"Neither agree nor disagree + Unsure\",\"Somewhat disagree + Strongly disagree\",\"Strongly agree\",\"Somewhat agree\",\"Neither agree nor disagree\",\"Somewhat disagree\",\"Strongly disagree\",\"Unsure\",\"Strongly agree + Somewhat agree\",\"Neither agree nor disagree + Unsure\",\"Somewhat disagree + Strongly disagree\",\"Strongly agree\",\"Somewhat agree\",\"Neither agree nor disagree\",\"Somewhat disagree\",\"Strongly disagree\",\"Unsure\",\"Strongly agree + Somewhat agree\",\"Neither agree nor disagree + Unsure\",\"Somewhat disagree + Strongly disagree\",\"Strongly agree\",\"Somewhat agree\",\"Neither agree nor disagree\",\"Somewhat disagree\",\"Strongly disagree\",\"Unsure\",\"Strongly agree + Somewhat agree\",\"Neither agree nor disagree + Unsure\",\"Somewhat disagree + Strongly disagree\",\"Strongly agree\",\"Somewhat agree\",\"Neither agree nor disagree\",\"Somewhat disagree\",\"Strongly disagree\",\"Unsure\",\"Strongly agree + Somewhat agree\",\"Neither agree nor disagree + Unsure\",\"Somewhat disagree + Strongly disagree\"],\"yaxis\":\"y\",\"ybingroup\":\"y\",\"z\":[21.15701028296,27.759850692440004,22.329657642809998,13.42965243591,14.4853766765,0.8384522693759999,48.916860975389994,23.168109912189998,27.915029112419997,26.377984376129998,38.18958726339,19.03657057665,8.106957828477,6.173995255719,2.11490469963,64.56757163952001,21.15147527628,14.280953084199998,30.5282836529,34.096726406580004,20.009559832849998,8.048660909608001,7.127063011031,0.1897061870268,64.62501005949,20.19926601987,15.17572392064,22.914627825940002,28.28627643636,22.59797424836,12.6662089865,12.70328591389,0.8316265889442,51.20090426229999,23.429600837309998,25.36949490039,12.9591183303,20.72605978389,24.432832948639998,18.623179555550003,22.39734580569,0.8614635759384001,33.68517811418,25.29429652458,41.020525361240004,22.69326683292,28.428927680799998,20.698254364089998,12.21945137157,14.713216957610001,1.2468827930170001,51.12219451372,21.94513715711,26.932668329179997,21.0,27.500000000000004,23.25,15.25,12.75,0.25,48.5,23.5,28.000000000000004,22.66666666667,25.0,22.66666666667,12.0,17.0,0.6666666666667,47.66666666667,23.33333333333,28.999999999999996,20.33333333333,28.66666666667,20.33333333333,15.0,14.66666666667,1.0,49.0,21.33333333333,29.66666666667],\"type\":\"histogram2d\",\"textfont\":{\"size\":10},\"texttemplate\":\"%{z:.1f}%\"}],                        {\"template\":{\"data\":{\"histogram2dcontour\":[{\"type\":\"histogram2dcontour\",\"colorbar\":{\"outlinewidth\":0,\"ticks\":\"\"},\"colorscale\":[[0.0,\"#0d0887\"],[0.1111111111111111,\"#46039f\"],[0.2222222222222222,\"#7201a8\"],[0.3333333333333333,\"#9c179e\"],[0.4444444444444444,\"#bd3786\"],[0.5555555555555556,\"#d8576b\"],[0.6666666666666666,\"#ed7953\"],[0.7777777777777778,\"#fb9f3a\"],[0.8888888888888888,\"#fdca26\"],[1.0,\"#f0f921\"]]}],\"choropleth\":[{\"type\":\"choropleth\",\"colorbar\":{\"outlinewidth\":0,\"ticks\":\"\"}}],\"histogram2d\":[{\"type\":\"histogram2d\",\"colorbar\":{\"outlinewidth\":0,\"ticks\":\"\"},\"colorscale\":[[0.0,\"#0d0887\"],[0.1111111111111111,\"#46039f\"],[0.2222222222222222,\"#7201a8\"],[0.3333333333333333,\"#9c179e\"],[0.4444444444444444,\"#bd3786\"],[0.5555555555555556,\"#d8576b\"],[0.6666666666666666,\"#ed7953\"],[0.7777777777777778,\"#fb9f3a\"],[0.8888888888888888,\"#fdca26\"],[1.0,\"#f0f921\"]]}],\"heatmap\":[{\"type\":\"heatmap\",\"colorbar\":{\"outlinewidth\":0,\"ticks\":\"\"},\"colorscale\":[[0.0,\"#0d0887\"],[0.1111111111111111,\"#46039f\"],[0.2222222222222222,\"#7201a8\"],[0.3333333333333333,\"#9c179e\"],[0.4444444444444444,\"#bd3786\"],[0.5555555555555556,\"#d8576b\"],[0.6666666666666666,\"#ed7953\"],[0.7777777777777778,\"#fb9f3a\"],[0.8888888888888888,\"#fdca26\"],[1.0,\"#f0f921\"]]}],\"heatmapgl\":[{\"type\":\"heatmapgl\",\"colorbar\":{\"outlinewidth\":0,\"ticks\":\"\"},\"colorscale\":[[0.0,\"#0d0887\"],[0.1111111111111111,\"#46039f\"],[0.2222222222222222,\"#7201a8\"],[0.3333333333333333,\"#9c179e\"],[0.4444444444444444,\"#bd3786\"],[0.5555555555555556,\"#d8576b\"],[0.6666666666666666,\"#ed7953\"],[0.7777777777777778,\"#fb9f3a\"],[0.8888888888888888,\"#fdca26\"],[1.0,\"#f0f921\"]]}],\"contourcarpet\":[{\"type\":\"contourcarpet\",\"colorbar\":{\"outlinewidth\":0,\"ticks\":\"\"}}],\"contour\":[{\"type\":\"contour\",\"colorbar\":{\"outlinewidth\":0,\"ticks\":\"\"},\"colorscale\":[[0.0,\"#0d0887\"],[0.1111111111111111,\"#46039f\"],[0.2222222222222222,\"#7201a8\"],[0.3333333333333333,\"#9c179e\"],[0.4444444444444444,\"#bd3786\"],[0.5555555555555556,\"#d8576b\"],[0.6666666666666666,\"#ed7953\"],[0.7777777777777778,\"#fb9f3a\"],[0.8888888888888888,\"#fdca26\"],[1.0,\"#f0f921\"]]}],\"surface\":[{\"type\":\"surface\",\"colorbar\":{\"outlinewidth\":0,\"ticks\":\"\"},\"colorscale\":[[0.0,\"#0d0887\"],[0.1111111111111111,\"#46039f\"],[0.2222222222222222,\"#7201a8\"],[0.3333333333333333,\"#9c179e\"],[0.4444444444444444,\"#bd3786\"],[0.5555555555555556,\"#d8576b\"],[0.6666666666666666,\"#ed7953\"],[0.7777777777777778,\"#fb9f3a\"],[0.8888888888888888,\"#fdca26\"],[1.0,\"#f0f921\"]]}],\"mesh3d\":[{\"type\":\"mesh3d\",\"colorbar\":{\"outlinewidth\":0,\"ticks\":\"\"}}],\"scatter\":[{\"fillpattern\":{\"fillmode\":\"overlay\",\"size\":10,\"solidity\":0.2},\"type\":\"scatter\"}],\"parcoords\":[{\"type\":\"parcoords\",\"line\":{\"colorbar\":{\"outlinewidth\":0,\"ticks\":\"\"}}}],\"scatterpolargl\":[{\"type\":\"scatterpolargl\",\"marker\":{\"colorbar\":{\"outlinewidth\":0,\"ticks\":\"\"}}}],\"bar\":[{\"error_x\":{\"color\":\"#2a3f5f\"},\"error_y\":{\"color\":\"#2a3f5f\"},\"marker\":{\"line\":{\"color\":\"#E5ECF6\",\"width\":0.5},\"pattern\":{\"fillmode\":\"overlay\",\"size\":10,\"solidity\":0.2}},\"type\":\"bar\"}],\"scattergeo\":[{\"type\":\"scattergeo\",\"marker\":{\"colorbar\":{\"outlinewidth\":0,\"ticks\":\"\"}}}],\"scatterpolar\":[{\"type\":\"scatterpolar\",\"marker\":{\"colorbar\":{\"outlinewidth\":0,\"ticks\":\"\"}}}],\"histogram\":[{\"marker\":{\"pattern\":{\"fillmode\":\"overlay\",\"size\":10,\"solidity\":0.2}},\"type\":\"histogram\"}],\"scattergl\":[{\"type\":\"scattergl\",\"marker\":{\"colorbar\":{\"outlinewidth\":0,\"ticks\":\"\"}}}],\"scatter3d\":[{\"type\":\"scatter3d\",\"line\":{\"colorbar\":{\"outlinewidth\":0,\"ticks\":\"\"}},\"marker\":{\"colorbar\":{\"outlinewidth\":0,\"ticks\":\"\"}}}],\"scattermapbox\":[{\"type\":\"scattermapbox\",\"marker\":{\"colorbar\":{\"outlinewidth\":0,\"ticks\":\"\"}}}],\"scatterternary\":[{\"type\":\"scatterternary\",\"marker\":{\"colorbar\":{\"outlinewidth\":0,\"ticks\":\"\"}}}],\"scattercarpet\":[{\"type\":\"scattercarpet\",\"marker\":{\"colorbar\":{\"outlinewidth\":0,\"ticks\":\"\"}}}],\"carpet\":[{\"aaxis\":{\"endlinecolor\":\"#2a3f5f\",\"gridcolor\":\"white\",\"linecolor\":\"white\",\"minorgridcolor\":\"white\",\"startlinecolor\":\"#2a3f5f\"},\"baxis\":{\"endlinecolor\":\"#2a3f5f\",\"gridcolor\":\"white\",\"linecolor\":\"white\",\"minorgridcolor\":\"white\",\"startlinecolor\":\"#2a3f5f\"},\"type\":\"carpet\"}],\"table\":[{\"cells\":{\"fill\":{\"color\":\"#EBF0F8\"},\"line\":{\"color\":\"white\"}},\"header\":{\"fill\":{\"color\":\"#C8D4E3\"},\"line\":{\"color\":\"white\"}},\"type\":\"table\"}],\"barpolar\":[{\"marker\":{\"line\":{\"color\":\"#E5ECF6\",\"width\":0.5},\"pattern\":{\"fillmode\":\"overlay\",\"size\":10,\"solidity\":0.2}},\"type\":\"barpolar\"}],\"pie\":[{\"automargin\":true,\"type\":\"pie\"}]},\"layout\":{\"autotypenumbers\":\"strict\",\"colorway\":[\"#636efa\",\"#EF553B\",\"#00cc96\",\"#ab63fa\",\"#FFA15A\",\"#19d3f3\",\"#FF6692\",\"#B6E880\",\"#FF97FF\",\"#FECB52\"],\"font\":{\"color\":\"#2a3f5f\"},\"hovermode\":\"closest\",\"hoverlabel\":{\"align\":\"left\"},\"paper_bgcolor\":\"white\",\"plot_bgcolor\":\"#E5ECF6\",\"polar\":{\"bgcolor\":\"#E5ECF6\",\"angularaxis\":{\"gridcolor\":\"white\",\"linecolor\":\"white\",\"ticks\":\"\"},\"radialaxis\":{\"gridcolor\":\"white\",\"linecolor\":\"white\",\"ticks\":\"\"}},\"ternary\":{\"bgcolor\":\"#E5ECF6\",\"aaxis\":{\"gridcolor\":\"white\",\"linecolor\":\"white\",\"ticks\":\"\"},\"baxis\":{\"gridcolor\":\"white\",\"linecolor\":\"white\",\"ticks\":\"\"},\"caxis\":{\"gridcolor\":\"white\",\"linecolor\":\"white\",\"ticks\":\"\"}},\"coloraxis\":{\"colorbar\":{\"outlinewidth\":0,\"ticks\":\"\"}},\"colorscale\":{\"sequential\":[[0.0,\"#0d0887\"],[0.1111111111111111,\"#46039f\"],[0.2222222222222222,\"#7201a8\"],[0.3333333333333333,\"#9c179e\"],[0.4444444444444444,\"#bd3786\"],[0.5555555555555556,\"#d8576b\"],[0.6666666666666666,\"#ed7953\"],[0.7777777777777778,\"#fb9f3a\"],[0.8888888888888888,\"#fdca26\"],[1.0,\"#f0f921\"]],\"sequentialminus\":[[0.0,\"#0d0887\"],[0.1111111111111111,\"#46039f\"],[0.2222222222222222,\"#7201a8\"],[0.3333333333333333,\"#9c179e\"],[0.4444444444444444,\"#bd3786\"],[0.5555555555555556,\"#d8576b\"],[0.6666666666666666,\"#ed7953\"],[0.7777777777777778,\"#fb9f3a\"],[0.8888888888888888,\"#fdca26\"],[1.0,\"#f0f921\"]],\"diverging\":[[0,\"#8e0152\"],[0.1,\"#c51b7d\"],[0.2,\"#de77ae\"],[0.3,\"#f1b6da\"],[0.4,\"#fde0ef\"],[0.5,\"#f7f7f7\"],[0.6,\"#e6f5d0\"],[0.7,\"#b8e186\"],[0.8,\"#7fbc41\"],[0.9,\"#4d9221\"],[1,\"#276419\"]]},\"xaxis\":{\"gridcolor\":\"white\",\"linecolor\":\"white\",\"ticks\":\"\",\"title\":{\"standoff\":15},\"zerolinecolor\":\"white\",\"automargin\":true,\"zerolinewidth\":2},\"yaxis\":{\"gridcolor\":\"white\",\"linecolor\":\"white\",\"ticks\":\"\",\"title\":{\"standoff\":15},\"zerolinecolor\":\"white\",\"automargin\":true,\"zerolinewidth\":2},\"scene\":{\"xaxis\":{\"backgroundcolor\":\"#E5ECF6\",\"gridcolor\":\"white\",\"linecolor\":\"white\",\"showbackground\":true,\"ticks\":\"\",\"zerolinecolor\":\"white\",\"gridwidth\":2},\"yaxis\":{\"backgroundcolor\":\"#E5ECF6\",\"gridcolor\":\"white\",\"linecolor\":\"white\",\"showbackground\":true,\"ticks\":\"\",\"zerolinecolor\":\"white\",\"gridwidth\":2},\"zaxis\":{\"backgroundcolor\":\"#E5ECF6\",\"gridcolor\":\"white\",\"linecolor\":\"white\",\"showbackground\":true,\"ticks\":\"\",\"zerolinecolor\":\"white\",\"gridwidth\":2}},\"shapedefaults\":{\"line\":{\"color\":\"#2a3f5f\"}},\"annotationdefaults\":{\"arrowcolor\":\"#2a3f5f\",\"arrowhead\":0,\"arrowwidth\":1},\"geo\":{\"bgcolor\":\"white\",\"landcolor\":\"#E5ECF6\",\"subunitcolor\":\"white\",\"showland\":true,\"showlakes\":true,\"lakecolor\":\"white\"},\"title\":{\"x\":0.05},\"mapbox\":{\"style\":\"light\"}}},\"xaxis\":{\"anchor\":\"y\",\"domain\":[0.0,1.0],\"title\":{\"text\":\"Household Type \\u002f State\"}},\"yaxis\":{\"anchor\":\"x\",\"domain\":[0.0,1.0],\"title\":{\"text\":\"Level of Agreement\"}},\"coloraxis\":{\"colorbar\":{\"title\":{\"text\":\"Concern Level (%)\"}},\"colorscale\":[[0.0,\"rgb(247,251,255)\"],[0.125,\"rgb(222,235,247)\"],[0.25,\"rgb(198,219,239)\"],[0.375,\"rgb(158,202,225)\"],[0.5,\"rgb(107,174,214)\"],[0.625,\"rgb(66,146,198)\"],[0.75,\"rgb(33,113,181)\"],[0.875,\"rgb(8,81,156)\"],[1.0,\"rgb(8,48,107)\"]]},\"legend\":{\"tracegroupgap\":0},\"title\":{\"text\":\"Concerns About Ability to Pay Across Household Types and States\",\"x\":0.5,\"xanchor\":\"center\"}},                        {\"responsive\": true}                    ).then(function(){\n",
       "                            \n",
       "var gd = document.getElementById('4c516b35-1b5e-4fb5-956c-b86413ac4362');\n",
       "var x = new MutationObserver(function (mutations, observer) {{\n",
       "        var display = window.getComputedStyle(gd).display;\n",
       "        if (!display || display === 'none') {{\n",
       "            console.log([gd, 'removed!']);\n",
       "            Plotly.purge(gd);\n",
       "            observer.disconnect();\n",
       "        }}\n",
       "}});\n",
       "\n",
       "// Listen for the removal of the full notebook cells\n",
       "var notebookContainer = gd.closest('#notebook-container');\n",
       "if (notebookContainer) {{\n",
       "    x.observe(notebookContainer, {childList: true});\n",
       "}}\n",
       "\n",
       "// Listen for the clearing of the current output cell\n",
       "var outputEl = gd.closest('.output');\n",
       "if (outputEl) {{\n",
       "    x.observe(outputEl, {childList: true});\n",
       "}}\n",
       "\n",
       "                        })                };                });            </script>        </div>"
      ]
     },
     "metadata": {},
     "output_type": "display_data"
    }
   ],
   "source": [
    "# Filter out irrelevant rows for heatmap visualization\n",
    "filtered_ability_to_pay_data = concern_for_ability_to_pay_cleaned[\n",
    "    ~concern_for_ability_to_pay_cleaned['Column %'].isin(['NET', 'Column n'])\n",
    "]\n",
    "\n",
    "# Prepare data for heatmap by melting it\n",
    "melted_ability_to_pay_data = filtered_ability_to_pay_data.melt(\n",
    "    id_vars=[\"Column %\"], \n",
    "    value_vars=['All households', 'Young Household', 'Family Household', \n",
    "                'Older Household', 'Retired Household', 'NSW', 'VIC', 'QLD', 'WA'],\n",
    "    var_name='Category',\n",
    "    value_name='Concern Level'\n",
    ")\n",
    "\n",
    "# Convert concern levels to percentages\n",
    "melted_ability_to_pay_data['Concern Level'] = melted_ability_to_pay_data['Concern Level'] * 100\n",
    "\n",
    "# Create the heatmap\n",
    "fig = px.density_heatmap(\n",
    "    melted_ability_to_pay_data, \n",
    "    x='Category', \n",
    "    y='Column %', \n",
    "    z='Concern Level',\n",
    "    color_continuous_scale='Blues',\n",
    "    title=\"Household and State-wise Concern for Ability to Pay\"\n",
    ")\n",
    "\n",
    "# Add annotations with smaller text for better readability\n",
    "fig.update_traces(\n",
    "    texttemplate='%{z:.1f}%',  # Keep percentage formatting with one decimal place\n",
    "    textfont=dict(size=10)  # Reduce the font size to avoid clutter\n",
    ")\n",
    "\n",
    "# Update layout for a clearer view with bolded axis labels and title\n",
    "fig.update_layout(\n",
    "    xaxis_title=\"Household Type / State\",\n",
    "    yaxis_title=\"Level of Agreement\",\n",
    "    title={\n",
    "        \"text\": \"Concerns About Ability to Pay Across Household Types and States\", \n",
    "        \"x\": 0.5, \n",
    "        \"xanchor\": \"center\"\n",
    "    },\n",
    "    coloraxis_colorbar=dict(\n",
    "        title=\"Concern Level (%)\"\n",
    "    )\n",
    ")\n",
    "\n",
    "# Show the heatmap\n",
    "fig.show()\n",
    "fig.write_json(\"Concerns_about_cost\")"
   ]
  },
  {
   "cell_type": "markdown",
   "id": "81c53fb1",
   "metadata": {},
   "source": [
    "#### **Summary:**\n",
    "The heatmap visualization shows that many households, especially Young Households and Family Households, are highly concerned about their ability to pay during the renewable energy transition. This concern is particularly strong in VIC and NSW, where a significant percentage of respondents strongly or somewhat agree with the statement."
   ]
  }
 ],
 "metadata": {
  "kernelspec": {
   "display_name": "Python 3",
   "language": "python",
   "name": "python3"
  },
  "language_info": {
   "codemirror_mode": {
    "name": "ipython",
    "version": 3
   },
   "file_extension": ".py",
   "mimetype": "text/x-python",
   "name": "python",
   "nbconvert_exporter": "python",
   "pygments_lexer": "ipython3",
   "version": "3.11.5"
  }
 },
 "nbformat": 4,
 "nbformat_minor": 5
}
